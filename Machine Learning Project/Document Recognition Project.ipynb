{
 "cells": [
  {
   "cell_type": "markdown",
   "metadata": {
    "colab_type": "text",
    "id": "6t55qCf3Fsxa"
   },
   "source": [
    "# Project 2: Topic Classification"
   ]
  },
  {
   "cell_type": "markdown",
   "metadata": {
    "colab_type": "text",
    "id": "j9-9G8z4Fsxd"
   },
   "source": [
    "In this project, you'll work with text data from newsgroup posts on a variety of topics. You'll train classifiers to distinguish posts by topics inferred from the text. Whereas with digit classification, where each input is relatively dense (represented as a 28x28 matrix of pixels, many of which are non-zero), here each document is relatively sparse (represented as a bag-of-words). Only a few words of the total vocabulary are active in any given document. The assumption is that a label depends only on the count of words, not their order.\n",
    "\n",
    "The `sklearn` documentation on feature extraction may be useful:\n",
    "http://scikit-learn.org/stable/modules/feature_extraction.html\n",
    "\n",
    "Each problem can be addressed succinctly with the included packages -- please don't add any more. Grading will be based on writing clean, commented code, along with a few short answers.\n",
    "\n",
    "As always, you're welcome to work on the project in groups and discuss ideas on Slack, but <b> please prepare your own write-up with your own code. </b>"
   ]
  },
  {
   "cell_type": "code",
   "execution_count": 1,
   "metadata": {
    "colab": {},
    "colab_type": "code",
    "id": "AUYW83LqFsxd"
   },
   "outputs": [],
   "source": [
    "# This tells matplotlib not to try opening a new window for each plot.\n",
    "%matplotlib inline\n",
    "\n",
    "# General libraries.\n",
    "import re\n",
    "import numpy as np\n",
    "import matplotlib.pyplot as plt\n",
    "\n",
    "# SK-learn libraries for learning.\n",
    "from sklearn.pipeline import Pipeline\n",
    "from sklearn.neighbors import KNeighborsClassifier\n",
    "from sklearn.linear_model import LogisticRegression\n",
    "from sklearn.naive_bayes import BernoulliNB\n",
    "from sklearn.naive_bayes import MultinomialNB\n",
    "\n",
    "# SK-learn libraries for evaluation.\n",
    "from sklearn.metrics import confusion_matrix\n",
    "from sklearn import metrics\n",
    "from sklearn.metrics import classification_report\n",
    "\n",
    "# SK-learn library for importing the newsgroup data.\n",
    "from sklearn.datasets import fetch_20newsgroups\n",
    "\n",
    "# SK-learn libraries for feature extraction from text.\n",
    "from sklearn.feature_extraction.text import *\n",
    "\n",
    "import nltk"
   ]
  },
  {
   "cell_type": "markdown",
   "metadata": {
    "colab_type": "text",
    "id": "_ALNjGgCFsxg"
   },
   "source": [
    "Load the data, stripping out metadata so that only textual features will be used, and restricting documents to 4 specific topics. By default, newsgroups data is split into training and test sets, but here the test set gets further split into development and test sets.  (If you remove the categories argument from the fetch function calls, you'd get documents from all 20 topics.)"
   ]
  },
  {
   "cell_type": "code",
   "execution_count": 2,
   "metadata": {
    "colab": {},
    "colab_type": "code",
    "id": "ecYpcoxaFsxh"
   },
   "outputs": [
    {
     "name": "stdout",
     "output_type": "stream",
     "text": [
      "training label shape: (2034,)\n",
      "dev label shape: (676,)\n",
      "test label shape: (677,)\n",
      "labels names: ['alt.atheism', 'comp.graphics', 'sci.space', 'talk.religion.misc']\n"
     ]
    }
   ],
   "source": [
    "categories = ['alt.atheism', 'talk.religion.misc', 'comp.graphics', 'sci.space']\n",
    "newsgroups_train = fetch_20newsgroups(subset='train',\n",
    "                                      remove=('headers', 'footers', 'quotes'),\n",
    "                                      categories=categories)\n",
    "newsgroups_test  = fetch_20newsgroups(subset='test',\n",
    "                                      remove=('headers', 'footers', 'quotes'),\n",
    "                                      categories=categories)\n",
    "\n",
    "num_test = int(len(newsgroups_test.target) / 2)\n",
    "test_data, test_labels   = newsgroups_test.data[num_test:], newsgroups_test.target[num_test:]\n",
    "dev_data, dev_labels     = newsgroups_test.data[:num_test], newsgroups_test.target[:num_test]\n",
    "train_data, train_labels = newsgroups_train.data, newsgroups_train.target\n",
    "\n",
    "print('training label shape:', train_labels.shape)\n",
    "print('dev label shape:',      dev_labels.shape)\n",
    "print('test label shape:',     test_labels.shape)\n",
    "print('labels names:',         newsgroups_train.target_names)"
   ]
  },
  {
   "cell_type": "markdown",
   "metadata": {
    "colab_type": "text",
    "id": "OHTnOke6Fsxk"
   },
   "source": [
    "### Part 1:\n",
    "\n",
    "For each of the first 5 training examples, print the text of the message along with the label."
   ]
  },
  {
   "cell_type": "code",
   "execution_count": 3,
   "metadata": {
    "colab": {},
    "colab_type": "code",
    "id": "X8zhA06xFsxl"
   },
   "outputs": [
    {
     "name": "stdout",
     "output_type": "stream",
     "text": [
      "\n",
      "Text of the Message, Example 1 :\n",
      " Hi,\n",
      "\n",
      "I've noticed that if you only save a model (with all your mapping planes\n",
      "positioned carefully) to a .3DS file that when you reload it after restarting\n",
      "3DS, they are given a default position and orientation.  But if you save\n",
      "to a .PRJ file their positions/orientation are preserved.  Does anyone\n",
      "know why this information is not stored in the .3DS file?  Nothing is\n",
      "explicitly said in the manual about saving texture rules in the .PRJ file. \n",
      "I'd like to be able to read the texture rule information, does anyone have \n",
      "the format for the .PRJ file?\n",
      "\n",
      "Is the .CEL file format available from somewhere?\n",
      "\n",
      "Rych \n",
      "Respective Label of Example 1 : 1\n",
      "\n",
      "Text of the Message, Example 2 :\n",
      " \n",
      "\n",
      "Seems to be, barring evidence to the contrary, that Koresh was simply\n",
      "another deranged fanatic who thought it neccessary to take a whole bunch of\n",
      "folks with him, children and all, to satisfy his delusional mania. Jim\n",
      "Jones, circa 1993.\n",
      "\n",
      "\n",
      "Nope - fruitcakes like Koresh have been demonstrating such evil corruption\n",
      "for centuries. \n",
      "Respective Label of Example 2 : 3\n",
      "\n",
      "Text of the Message, Example 3 :\n",
      " \n",
      " >In article <1993Apr19.020359.26996@sq.sq.com>, msb@sq.sq.com (Mark Brader) \n",
      "\n",
      "MB>                                                             So the\n",
      "MB> 1970 figure seems unlikely to actually be anything but a perijove.\n",
      "\n",
      "JG>Sorry, _perijoves_...I'm not used to talking this language.\n",
      "\n",
      "Couldn't we just say periapsis or apoapsis?\n",
      "\n",
      "  \n",
      "Respective Label of Example 3 : 2\n",
      "\n",
      "Text of the Message, Example 4 :\n",
      " I have a request for those who would like to see Charley Wingate\n",
      "respond to the \"Charley Challenges\" (and judging from my e-mail, there\n",
      "appear to be quite a few of you.)  \n",
      "\n",
      "It is clear that Mr. Wingate intends to continue to post tangential or\n",
      "unrelated articles while ingoring the Challenges themselves.  Between\n",
      "the last two re-postings of the Challenges, I noted perhaps a dozen or\n",
      "more posts by Mr. Wingate, none of which answered a single Challenge.  \n",
      "\n",
      "It seems unmistakable to me that Mr. Wingate hopes that the questions\n",
      "will just go away, and he is doing his level best to change the\n",
      "subject.  Given that this seems a rather common net.theist tactic, I\n",
      "would like to suggest that we impress upon him our desire for answers,\n",
      "in the following manner:\n",
      "\n",
      "1. Ignore any future articles by Mr. Wingate that do not address the\n",
      "Challenges, until he answers them or explictly announces that he\n",
      "refuses to do so.\n",
      "\n",
      "--or--\n",
      "\n",
      "2. If you must respond to one of his articles, include within it\n",
      "something similar to the following:\n",
      "\n",
      "    \"Please answer the questions posed to you in the Charley Challenges.\"\n",
      "\n",
      "Really, I'm not looking to humiliate anyone here, I just want some\n",
      "honest answers.  You wouldn't think that honesty would be too much to\n",
      "ask from a devout Christian, would you?  \n",
      "\n",
      "Nevermind, that was a rhetorical question. \n",
      "Respective Label of Example 4 : 0\n",
      "\n",
      "Text of the Message, Example 5 :\n",
      " AW&ST  had a brief blurb on a Manned Lunar Exploration confernce\n",
      "May 7th  at Crystal City Virginia, under the auspices of AIAA.\n",
      "\n",
      "Does anyone know more about this?  How much, to attend????\n",
      "\n",
      "Anyone want to go? \n",
      "Respective Label of Example 5 : 2\n"
     ]
    }
   ],
   "source": [
    "def P1(num_examples=5):\n",
    "### STUDENT START ###\n",
    "\n",
    "# Going through the number of examples defined by the function's parameter \"num_examples\", printing text and label:\n",
    "    for i in range(num_examples):\n",
    "        print(\"\\nText of the Message, Example\", (i+1), \":\\n\", train_data[i], \"\\nRespective Label of Example\", (i+1), \":\", train_labels[i])\n",
    "    \n",
    "### STUDENT END ###\n",
    "P1()"
   ]
  },
  {
   "cell_type": "markdown",
   "metadata": {
    "colab_type": "text",
    "id": "onfno6uHFsxm"
   },
   "source": [
    "### Part 2:\n",
    "\n",
    "Transform the training data into a matrix of **word** unigram feature vectors.  What is the size of the vocabulary? What is the average number of non-zero features per example?  What is the fraction of the non-zero entries in the matrix?  What are the 0th and last feature strings (in alphabetical order)?<br/>\n",
    "_Use `CountVectorization` and its `.fit_transform` method.  Use `.nnz` and `.shape` attributes, and `.get_feature_names` method._\n",
    "\n",
    "Now transform the training data into a matrix of **word** unigram feature vectors using your own vocabulary with these 4 words: [\"atheism\", \"graphics\", \"space\", \"religion\"].  Confirm the size of the vocabulary. What is the average number of non-zero features per example?<br/>\n",
    "_Use `CountVectorization(vocabulary=...)` and its `.transform` method._\n",
    "\n",
    "Now transform the training data into a matrix of **character** bigram and trigram feature vectors.  What is the size of the vocabulary?<br/>\n",
    "_Use `CountVectorization(analyzer=..., ngram_range=...)` and its `.fit_transform` method._\n",
    "\n",
    "Now transform the training data into a matrix of **word** unigram feature vectors and prune words that appear in fewer than 10 documents.  What is the size of the vocabulary?<br/>\n",
    "_Use `CountVectorization(min_df=...)` and its `.fit_transform` method._\n",
    "\n",
    "Now again transform the training data into a matrix of **word** unigram feature vectors. What is the fraction of words in the development vocabulary that is missing from the training vocabulary?<br/>\n",
    "_Hint: Build vocabularies for both train and dev and look at the size of the difference._\n",
    "\n",
    "Notes:\n",
    "* `.fit_transform` makes 2 passes through the data: first it computes the vocabulary (\"fit\"), second it converts the raw text into feature vectors using the vocabulary (\"transform\").\n",
    "* `.fit_transform` and `.transform` return sparse matrix objects.  See about them at http://docs.scipy.org/doc/scipy-0.14.0/reference/generated/scipy.sparse.csr_matrix.html.  "
   ]
  },
  {
   "cell_type": "code",
   "execution_count": 4,
   "metadata": {
    "colab": {},
    "colab_type": "code",
    "id": "LyVwk5RvFsxn"
   },
   "outputs": [
    {
     "name": "stdout",
     "output_type": "stream",
     "text": [
      "1.) Transform the training data into a matrix of word unigram feature vectors\n",
      "    *The size of Vocabulary is:  26879\n",
      "    *The average number of non-zero features per example is:  96.706\n",
      "    *The fraction of the entries in the matrix that are non-zero are:  0.0036\n",
      "    *The 0th and last feature strings (in alphabetical order) are:  \" 00 \"  and  \" zyxel \"\n",
      "2.) transform the training data into a matrix of word unigram feature vectors using your own vocabulary\n",
      "    *The average number of non-zero features per example is:  0.2684\n",
      "3.) Now transform the training data into a matrix of character bigram and trigram feature vectors\n",
      "    *The size of the new Vocabulary is:  35478\n",
      "4.) Now transform the training data into a matrix of word unigram feature vectors and prune words that appear in fewer than 10 documents\n",
      "    *The size of the new Vocabulary is:  3064\n",
      "5.) Now again transform the training data into a matrix of word unigram feature vectors\n",
      "    *The fraction of the words in the dev data that are missing from the vocabulary is:  0.2479\n"
     ]
    }
   ],
   "source": [
    "def P2():\n",
    "### STUDENT START ###\n",
    "\n",
    "    # Using CountVectorizer, fit and transform train data:\n",
    "    vectorizer = CountVectorizer()\n",
    "    X = vectorizer.fit_transform(train_data)\n",
    "    \n",
    "    # Creating a vocabulary and checking its size:\n",
    "    vocabulary = vectorizer.get_feature_names()\n",
    "    print(\"1.) Transform the training data into a matrix of word unigram feature vectors\")\n",
    "    print(\"    *The size of Vocabulary is: \", len(vocabulary))\n",
    "    \n",
    "    # Converting train data into an array, saving in the variable 'vocab_features':\n",
    "    vocab_features = X.toarray()\n",
    "    \n",
    "    # Calculating the average number of non-zero features per example:\n",
    "    avg_nnz_per_ex = round(np.count_nonzero(vocab_features)/len(train_data),4)\n",
    "    print(\"    *The average number of non-zero features per example is: \", avg_nnz_per_ex)\n",
    "    \n",
    "    # Calculating what fraction of the entries in the matrix are non-zero:\n",
    "    print(\"    *The fraction of the entries in the matrix that are non-zero are: \", round(np.count_nonzero(vocab_features)/(np.shape(vocab_features)[0]*np.shape(vocab_features)[1]),4))\n",
    "    \n",
    "\n",
    "    # Sorting feature strings in vocabulary in alphabetical order:\n",
    "    vocabulary_sorted = sorted(vocabulary)\n",
    "    print(\"    *The 0th and last feature strings (in alphabetical order) are: \", '\"', vocabulary_sorted[0], '\"', \" and \", '\"', vocabulary_sorted[-1], '\"')\n",
    "    \n",
    "    # Creating my own vocabulary:\n",
    "    our_words = [\"atheism\", \"graphics\", \"space\", \"religion\"]\n",
    "    \n",
    "    # Vectorizing new vocabulary, fitting and transforming:\n",
    "    vectorizer2 = CountVectorizer(vocabulary = our_words)\n",
    "    X2 = vectorizer2.fit_transform(train_data)\n",
    "    vocab_features2 = X2.toarray()\n",
    "    \n",
    "    #Confirming the training vectors are appropriately shaped:\n",
    "    #print(\"Training Vectors Shape: \", vocab_features2.shape)\n",
    "    \n",
    "    # Calculating the new average number of non-zero features per example:\n",
    "    avg_nnz_per_ex2 = round(np.count_nonzero(vocab_features2)/len(train_data),4)\n",
    "    print(\"2.) transform the training data into a matrix of word unigram feature vectors using your own vocabulary\")\n",
    "    print(\"    *The average number of non-zero features per example is: \", avg_nnz_per_ex2)\n",
    "    \n",
    "    # Extracting bigram and trigram character features with 'ngram_range':\n",
    "    vectorizer3 = CountVectorizer(analyzer = 'char', ngram_range = (2,3))\n",
    "    \n",
    "    # Fitting and transforming 'train_data' to create new vocabulary, extracting feature names to define size:\n",
    "    X3 = vectorizer3.fit_transform(train_data)\n",
    "    vocabulary3 = vectorizer3.get_feature_names()\n",
    "    print(\"3.) Now transform the training data into a matrix of character bigram and trigram feature vectors\")\n",
    "    print(\"    *The size of the new Vocabulary is: \", len(vocabulary3))\n",
    "    \n",
    "    # Pruning words that appear in fewer than 10 documents with 'min_df' argument:\n",
    "    vectorizer4 = CountVectorizer(min_df = 10)\n",
    "    A = vectorizer4.fit_transform(train_data)\n",
    "    vocabulary4 = vectorizer4.get_feature_names()\n",
    "    print(\"4.) Now transform the training data into a matrix of word unigram feature vectors and prune words that appear in fewer than 10 documents\")\n",
    "    print(\"    *The size of the new Vocabulary is: \", len(vocabulary4))\n",
    "    \n",
    "    # Using CountVectorizer, fit and transform train data and dev data:\n",
    "    vectorizer_train = CountVectorizer()\n",
    "    vectorizer_dev = CountVectorizer()\n",
    "    vect_train = vectorizer_train.fit_transform(train_data)\n",
    "    vect_dev = vectorizer_dev.fit_transform(dev_data)\n",
    "    \n",
    "    # Creating a vocabulary and checking its size for both train and dev data:\n",
    "    vocab_train = vectorizer_train.get_feature_names()\n",
    "    vocab_dev = vectorizer_dev.get_feature_names()\n",
    "    missing=[i for i in vocab_dev if i not in vocab_train]\n",
    "    print(\"5.) Now again transform the training data into a matrix of word unigram feature vectors\")\n",
    "    print(\"    *The fraction of the words in the dev data that are missing from the vocabulary is: \", round((len(missing) / len(vocab_dev)),4))\n",
    "    \n",
    "\n",
    "### STUDENT END ###\n",
    "P2()"
   ]
  },
  {
   "cell_type": "markdown",
   "metadata": {
    "colab_type": "text",
    "id": "ydjkRh6LFsxp"
   },
   "source": [
    "### Part 3:\n",
    "\n",
    "Transform the training and development data to matrices of word unigram feature vectors.\n",
    "\n",
    "1. Produce several k-Nearest Neigbors models by varying k, including one with k set to optimize f1 score.  For each model, show the k value and f1 score.\n",
    "1. Produce several Naive Bayes models by varying smoothing (alpha), including one with alpha set approximately to optimize f1 score.  For each model, show the alpha value and f1 score.\n",
    "1. Produce several Logistic Regression models by varying L2 regularization strength (C), including one with C set approximately to optimize f1 score.  For each model, show the C value, f1 score, and sum of squared weights for each topic.\n",
    "\n",
    "* Why doesn't k-Nearest Neighbors work well for this problem?\n",
    "* Why doesn't Logistic Regression work as well as Naive Bayes does?\n",
    "* What is the relationship between logistic regression's sum of squared weights vs. C value?\n",
    "\n",
    "Notes:\n",
    "* Train on the transformed training data.\n",
    "* Evaluate on the transformed development data.\n",
    "* You can use `CountVectorizer` and its `.fit_transform` and `.transform` methods to transform data.\n",
    "* You can use `KNeighborsClassifier(...)` to produce a k-Nearest Neighbors model.\n",
    "* You can use `MultinomialNB(...)` to produce a Naive Bayes model.\n",
    "* You can use `LogisticRegression(C=..., solver=\"liblinear\", multi_class=\"auto\")` to produce a Logistic Regression model.\n",
    "* You can use `LogisticRegression`'s `.coef_` method to get weights for each topic.\n",
    "* You can use `metrics.f1_score(..., average=\"weighted\")` to compute f1 score."
   ]
  },
  {
   "cell_type": "code",
   "execution_count": 5,
   "metadata": {
    "colab": {},
    "colab_type": "code",
    "id": "VvhpODdWFsxp"
   },
   "outputs": [
    {
     "name": "stdout",
     "output_type": "stream",
     "text": [
      "Using K-Nearest Neighbors Classifier\n",
      "The best value of k is:  112 Max f1-score:  0.4789 \n",
      "\n"
     ]
    },
    {
     "name": "stderr",
     "output_type": "stream",
     "text": [
      "C:\\Users\\George\\anaconda3\\lib\\site-packages\\sklearn\\naive_bayes.py:511: UserWarning: alpha too small will result in numeric errors, setting alpha = 1.0e-10\n",
      "  warnings.warn('alpha too small will result in numeric errors, '\n"
     ]
    },
    {
     "name": "stdout",
     "output_type": "stream",
     "text": [
      "Using Multinomial Naive Bayes Classifier\n",
      "The best value of alpha is:  0.263 Max f1-score:  0.7919 \n",
      "\n",
      "Using Logistic Regression Classifier\n",
      "C Value ,  ['alt.atheism', 'talk.religion.misc', 'comp.graphics', 'sci.space'] ,  F1-Score\n",
      "0.01 ,  [2.5415 2.9397 2.8625 2.25  ] ,  0.6647\n",
      "0.02 ,  [5.4708 5.8762 5.9409 4.6683] ,  0.6641\n",
      "0.03 ,  [8.3982 8.6188 8.9263 7.0977] ,  0.6698\n",
      "0.04 ,  [11.2702 11.2061 11.8104  9.4971] ,  0.6831\n",
      "0.05 ,  [14.0732 13.6691 14.6041 11.8607] ,  0.6867\n",
      "0.06 ,  [16.8089 16.0261 17.3145 14.1792] ,  0.6902\n",
      "0.07 ,  [19.4768 18.2949 19.9481 16.4538] ,  0.6907\n",
      "0.08 ,  [22.0829 20.4812 22.5152 18.6853] ,  0.6925\n",
      "0.09 ,  [24.6368 22.5977 25.0196 20.8791] ,  0.6948\n",
      "0.1 ,  [27.1328 24.6588 27.4579 23.0209] ,  0.6966\n",
      "0.11 ,  [29.5754 26.6545 29.8462 25.1348] ,  0.6968\n",
      "0.12 ,  [31.9729 28.6018 32.1818 27.212 ] ,  0.7074\n",
      "0.13 ,  [34.3285 30.5034 34.4674 29.2523] ,  0.7105\n",
      "0.14 ,  [36.6585 32.366  36.7152 31.2574] ,  0.7105\n",
      "0.15 ,  [38.9147 34.186  38.909  33.2244] ,  0.7092\n",
      "0.16 ,  [41.1433 35.9643 41.0655 35.18  ] ,  0.7092\n",
      "0.17 ,  [43.3411 37.6936 43.1852 37.09  ] ,  0.7076\n",
      "0.18 ,  [45.5099 39.4235 45.2684 38.9759] ,  0.7076\n",
      "0.19 ,  [47.6383 41.0991 47.3133 40.8344] ,  0.7059\n",
      "0.2 ,  [49.7477 42.7391 49.3284 42.6685] ,  0.7059\n",
      "0.21 ,  [51.8189 44.3722 51.3108 44.4768] ,  0.7059\n",
      "0.22 ,  [53.8564 45.9642 53.2695 46.2561] ,  0.7074\n",
      "0.23 ,  [55.875  47.5271 55.183  48.0058] ,  0.7049\n",
      "0.24 ,  [57.8541 49.0846 57.0727 49.75  ] ,  0.7064\n",
      "0.25 ,  [59.8174 50.5712 58.9354 51.4556] ,  0.7081\n",
      "0.26 ,  [61.7655 52.0871 60.7893 53.1732] ,  0.7068\n",
      "0.27 ,  [63.6854 53.5672 62.5892 54.8541] ,  0.7068\n",
      "0.28 ,  [65.5699 55.0112 64.3917 56.5144] ,  0.7068\n",
      "0.29 ,  [67.4401 56.455  66.1565 58.1406] ,  0.7084\n",
      "0.3 ,  [69.2967 57.8717 67.9031 59.7591] ,  0.7101\n",
      "0.31 ,  [71.1142 59.272  69.6269 61.3562] ,  0.7101\n",
      "0.32 ,  [72.927  60.629  71.3285 62.9442] ,  0.7099\n",
      "0.33 ,  [74.6504 62.0233 73.     64.5185] ,  0.7099\n",
      "0.34 ,  [76.4611 63.3591 74.6698 66.0673] ,  0.7067\n",
      "0.35000000000000003 ,  [78.2397 64.7046 76.3189 67.5689] ,  0.7067\n",
      "0.36 ,  [79.9582 66.0296 77.9379 69.1153] ,  0.7054\n",
      "0.37 ,  [81.6909 67.3749 79.5176 70.6457] ,  0.7054\n",
      "0.38 ,  [83.3903 68.6156 81.1349 72.11  ] ,  0.7067\n",
      "0.39 ,  [85.0627 69.89   82.7229 73.6227] ,  0.7067\n",
      "0.4 ,  [86.7358 71.1541 84.2532 75.0581] ,  0.7083\n",
      "0.41000000000000003 ,  [88.4005 72.3868 85.7979 76.4949] ,  0.7083\n",
      "0.42 ,  [90.0305 73.6313 87.3481 77.965 ] ,  0.7068\n",
      "0.43 ,  [91.6381 74.8588 88.8606 79.3575] ,  0.7053\n",
      "0.44 ,  [93.2194 76.0626 90.3446 80.7784] ,  0.7053\n",
      "0.45 ,  [94.8435 77.2743 91.8363 82.2266] ,  0.7053\n",
      "0.46 ,  [96.4258 78.4435 93.2565 83.551 ] ,  0.7054\n",
      "0.47000000000000003 ,  [98.0317 79.6159 94.7554 84.9289] ,  0.7054\n",
      "0.48 ,  [99.5573 80.7962 96.1944 86.3069] ,  0.7054\n",
      "0.49 ,  [101.0883  81.9472  97.6232  87.6699] ,  0.707\n",
      "0.5 ,  [102.6022  83.1202  99.0136  88.9843] ,  0.7085\n",
      "0.51 ,  [104.1284  84.2334 100.4179  90.3248] ,  0.7101\n",
      "0.52 ,  [105.6248  85.3582 101.8665  91.6439] ,  0.7101\n",
      "0.53 ,  [107.1004  86.4903 103.1657  92.961 ] ,  0.7118\n",
      "0.54 ,  [108.5962  87.5792 104.6038  94.2558] ,  0.7118\n",
      "0.55 ,  [110.0644  88.678  105.9533  95.5378] ,  0.7119\n",
      "0.56 ,  [111.5009  89.7539 107.2693  96.814 ] ,  0.7119\n",
      "0.5700000000000001 ,  [112.9803  90.8348 108.6032  98.0994] ,  0.7119\n",
      "0.58 ,  [114.4421  91.9169 109.939   99.3846] ,  0.7119\n",
      "0.59 ,  [115.8297  93.0107 111.2277 100.6247] ,  0.7119\n",
      "0.6 ,  [117.2573  94.067  112.5348 101.8543] ,  0.7092\n",
      "0.61 ,  [118.6077  95.071  113.8339 103.072 ] ,  0.7001\n",
      "0.62 ,  [120.034   96.1177 115.0442 104.3307] ,  0.7001\n",
      "0.63 ,  [121.4233  97.1381 116.4624 105.5391] ,  0.6988\n",
      "0.64 ,  [122.7268  98.1574 117.6077 106.7196] ,  0.6988\n",
      "0.65 ,  [124.195   99.1518 118.8776 107.9347] ,  0.6971\n",
      "0.66 ,  [125.3719 100.1798 120.165  109.1428] ,  0.6971\n",
      "0.67 ,  [126.9564 101.2074 121.35   110.3464] ,  0.6956\n",
      "0.68 ,  [128.2094 102.1782 122.6049 111.5317] ,  0.6956\n",
      "0.6900000000000001 ,  [129.5883 103.1912 123.7963 112.7297] ,  0.6956\n",
      "0.7000000000000001 ,  [130.8563 104.1213 125.0031 113.8136] ,  0.6939\n",
      "0.71 ,  [132.1527 105.1285 126.2259 115.0193] ,  0.6939\n",
      "0.72 ,  [133.5368 106.0909 127.455  116.1138] ,  0.6956\n",
      "0.73 ,  [134.7362 107.036  128.5782 117.2686] ,  0.6956\n",
      "0.74 ,  [136.0499 107.9832 129.8133 118.411 ] ,  0.6938\n",
      "0.75 ,  [137.3359 108.9402 130.9227 119.4708] ,  0.6926\n",
      "0.76 ,  [138.5065 109.884  132.0988 120.6432] ,  0.6925\n",
      "0.77 ,  [139.8512 110.8418 133.2668 121.7404] ,  0.6925\n",
      "0.78 ,  [141.11   111.7357 134.4156 122.8766] ,  0.6925\n",
      "0.79 ,  [142.3416 112.6892 135.5001 123.9277] ,  0.6925\n",
      "0.8 ,  [143.5775 113.5873 136.6043 125.0789] ,  0.6925\n",
      "0.81 ,  [144.7873 114.4966 137.7889 126.1725] ,  0.6941\n",
      "0.8200000000000001 ,  [146.0472 115.4052 138.8935 127.1903] ,  0.6941\n",
      "0.8300000000000001 ,  [147.2684 116.3208 140.0507 128.3178] ,  0.6958\n",
      "0.84 ,  [148.5387 117.2344 141.1263 129.3486] ,  0.6943\n",
      "0.85 ,  [149.6913 118.1322 142.2353 130.4507] ,  0.6943\n",
      "0.86 ,  [150.8878 118.9522 143.3293 131.4643] ,  0.6943\n",
      "0.87 ,  [152.0234 119.8904 144.3997 132.5976] ,  0.6943\n",
      "0.88 ,  [153.2699 120.7325 145.4894 133.6133] ,  0.6943\n",
      "0.89 ,  [154.511  121.6499 146.5683 134.6525] ,  0.6943\n",
      "0.9 ,  [155.6191 122.4763 147.6155 135.7207] ,  0.6943\n",
      "0.91 ,  [156.7584 123.3488 148.7279 136.7205] ,  0.6943\n",
      "0.92 ,  [157.8949 124.1637 149.7661 137.788 ] ,  0.6943\n",
      "0.93 ,  [159.1286 125.0565 150.7873 138.7661] ,  0.6943\n",
      "0.9400000000000001 ,  [160.1972 125.928  151.8064 139.7253] ,  0.6943\n",
      "0.9500000000000001 ,  [161.4186 126.7479 152.8742 140.7714] ,  0.6943\n",
      "0.96 ,  [162.4674 127.5832 153.8933 141.7903] ,  0.6943\n",
      "0.97 ,  [163.6284 128.4315 154.9885 142.777 ] ,  0.6943\n",
      "0.98 ,  [164.6063 129.2357 155.9052 143.7615] ,  0.6944\n",
      "0.99 ,  [165.6519 130.0664 156.9254 144.6883] ,  0.6944\n",
      "The best value of C is:  0.54 Max f1-score:  0.7119\n"
     ]
    }
   ],
   "source": [
    "def P3():\n",
    "### STUDENT START ###\n",
    "\n",
    "    # Using vectorizer and fit/transform data:\n",
    "    vectorizer = CountVectorizer()\n",
    "    train_vect = vectorizer.fit_transform(train_data)\n",
    "    dev_vect = vectorizer.transform(dev_data)\n",
    "\n",
    "    # Using K-Nearest Neighbors Classifier\n",
    "\n",
    "    # Creating classifier and iterating through all 'k' values, capturing F1_score values:\n",
    "    k_list = [i for i in range(1,200)]\n",
    "    f1_list = []\n",
    "    for k in k_list:\n",
    "        clf1 = KNeighborsClassifier(n_neighbors = k)\n",
    "        clf1.fit(train_vect, train_labels)\n",
    "        pred1 = clf1.predict(dev_vect)\n",
    "        f1_score = metrics.f1_score(dev_labels, pred1, average='weighted')\n",
    "        f1_list.append(f1_score)\n",
    "\n",
    "    # Identifying the maximum value of F1 and its respective 'k' value:\n",
    "    max_f1 = max(f1_list)\n",
    "    index = f1_list.index(max_f1)\n",
    "    best_k = index + 1\n",
    "    print(\"Using K-Nearest Neighbors Classifier\")\n",
    "    print(\"The best value of k is: \", best_k, \"Max f1-score: \", round(max_f1,4), '\\n')\n",
    "\n",
    "    # Using Multinomial Naive Bayes Classifier:\n",
    "\n",
    "    # Creating classifier and iterating through all 'alpha' values, capturing F1_score values:\n",
    "    alphas = [i*0.001 for i in range(1000)]\n",
    "    f1_list = []\n",
    "    for alpha in alphas:\n",
    "        clf2 = MultinomialNB(alpha = alpha)\n",
    "        clf2.fit(train_vect, train_labels)\n",
    "        pred2 = clf2.predict(dev_vect)\n",
    "        f1_score = metrics.f1_score(dev_labels, pred2, average='weighted')\n",
    "        f1_list.append(f1_score)\n",
    "\n",
    "    # Identifying the maximum value of F1 and its respective 'alpha' value:\n",
    "    max_f1 = max(f1_list)\n",
    "    index = f1_list.index(max_f1)\n",
    "    best_alpha = (index + 1)/1000\n",
    "    print(\"Using Multinomial Naive Bayes Classifier\")\n",
    "    print(\"The best value of alpha is: \", best_alpha, \"Max f1-score: \", round(max_f1,4), '\\n')\n",
    "\n",
    "    # Using Logistic Regression Classifier:\n",
    "\n",
    "    # Creating classifier and iterating through all 'C' values, capturing F1_score values:\n",
    "    print(\"Using Logistic Regression Classifier\")\n",
    "    c_values = [i*0.01 for i in range(1,100)]\n",
    "\n",
    "    f1_list = []\n",
    "    print(\"C Value\",\", \",categories,\", \",\"F1-Score\")\n",
    "    for c in c_values:\n",
    "        clf3 = LogisticRegression(C = c, solver='liblinear', multi_class=\"auto\")\n",
    "        clf3.fit(train_vect, train_labels)\n",
    "        \n",
    "        # Sum of the squared weight values for each class:\n",
    "        weights_sqrd = np.square(clf3.coef_).sum(axis=1)\n",
    "        \n",
    "        pred3 = clf3.predict(dev_vect)\n",
    "        f1_score = metrics.f1_score(dev_labels, pred3, average='weighted')\n",
    "        f1_list.append(f1_score)\n",
    "        print(c, \", \", np.round(weights_sqrd,4), \", \", round(f1_score,4))\n",
    "\n",
    "    # Identifying the maximum value of F1 and its respective 'C' value:\n",
    "    max_f1 = max(f1_list)\n",
    "    index = f1_list.index(max_f1)\n",
    "    best_c = index/100\n",
    "    \n",
    "    print(\"The best value of C is: \", best_c, \"Max f1-score: \", round(max_f1,4)) \n",
    "    \n",
    "    \n",
    "### STUDENT END ###\n",
    "\n",
    "P3()"
   ]
  },
  {
   "cell_type": "markdown",
   "metadata": {
    "colab_type": "text",
    "id": "jWtXwAlOFsxr"
   },
   "source": [
    "ANSWER:\n",
    "\n",
    "K Nearest Neighbors don't work well here because it assumes each unigram is equally important, while some unigrams are more important than others.\n",
    "\n",
    "Logistic Regression doesn't work well here because ~25% of the unigram in the dev data is missing from training data, it cannot train on features that don't exist in the training data. \n",
    "\n",
    "Naive Bayes works the best here, because it can give missing features a smoothing probability derived from alpha. Something logistic regression cannot do.  \n",
    "\n",
    "The sum of the squared weight values for each class tends to increase as the value of the C parameter also increases. This makes sense as C is the inverse of regularization, meaning the higher the value of C, the less penalty we put on the weights. It is important to notice though that higher C is not necessarily better or worse. In our case, the optimal value of C is in the middle of the tested range."
   ]
  },
  {
   "cell_type": "markdown",
   "metadata": {
    "colab_type": "text",
    "id": "dGEjsm_uFsxr"
   },
   "source": [
    "### Part 4:\n",
    "\n",
    "Transform the data to a matrix of word **bigram** feature vectors.  Produce a Logistic Regression model.  For each topic, find the 5 features with the largest weights (that's 20 features in total).  Show a 20 row (features) x 4 column (topics) table of the weights.\n",
    "\n",
    "Do you see any surprising features in this table?\n",
    "\n",
    "Notes:\n",
    "* Train on the transformed training data.\n",
    "* You can use `CountVectorizer` and its `.fit_transform` method to transform data.\n",
    "* You can use `LogisticRegression(C=0.5, solver=\"liblinear\", multi_class=\"auto\")` to produce a Logistic Regression model.\n",
    "* You can use `LogisticRegression`'s `.coef_` method to get weights for each topic.\n",
    "* You can use `np.argsort` to get indices sorted by element value. "
   ]
  },
  {
   "cell_type": "code",
   "execution_count": 22,
   "metadata": {
    "colab": {},
    "colab_type": "code",
    "id": "WN51Nv4fFsxs"
   },
   "outputs": [
    {
     "name": "stdout",
     "output_type": "stream",
     "text": [
      "['word', 'alt.atheism', 'talk.religion.misc', 'comp.graphics', 'sci.space']\n",
      "['deletion', 0.7239, -0.2495, -0.2724, -0.2704]\n",
      "['atheism', 0.7947, -0.3485, -0.3672, -0.377]\n",
      "['religion', 0.7984, -0.5087, -0.6588, -0.0506]\n",
      "['bobby', 0.8234, -0.1912, -0.2864, -0.3871]\n",
      "['atheists', 0.8342, -0.0933, -0.2674, -0.6375]\n",
      "['computer', 0.0714, 0.8438, -0.5695, -0.3961]\n",
      "['3d', -0.3035, 0.9415, -0.5711, -0.3176]\n",
      "['file', -0.2752, 1.059, -0.6827, -0.5061]\n",
      "['image', -0.4695, 1.1168, -0.6722, -0.381]\n",
      "['graphics', -0.6408, 1.6265, -1.103, -0.6263]\n",
      "['spacecraft', -0.2974, -0.3217, 0.7373, -0.2918]\n",
      "['launch', -0.3776, -0.3966, 0.784, -0.2808]\n",
      "['nasa', -0.4655, -0.4104, 0.8517, -0.4015]\n",
      "['orbit', -0.3503, -0.5597, 1.0127, -0.4989]\n",
      "['space', -1.0613, -1.1157, 1.864, -0.9721]\n",
      "['order', -0.6493, -0.0656, -0.1241, 0.7428]\n",
      "['fbi', -0.244, -0.2174, -0.375, 0.7546]\n",
      "['blood', -0.4287, -0.0968, -0.2306, 0.8469]\n",
      "['christian', -0.4829, -0.339, -0.2475, 0.9255]\n",
      "['christians', -0.6074, -0.3154, -0.4043, 0.9293]\n",
      "['word', 'alt.atheism', 'talk.religion.misc', 'comp.graphics', 'sci.space']\n",
      "['are you', 0.447, -0.2483, -0.0971, -0.3056]\n",
      "['you are', 0.4727, -0.2799, -0.4813, 0.0284]\n",
      "['was just', 0.4821, -0.1314, -0.1289, -0.2275]\n",
      "['cheers kent', 0.5557, -0.6979, -0.6638, 0.5348]\n",
      "['claim that', 0.6055, -0.199, -0.2743, -0.1404]\n",
      "['is there', -0.3409, 0.755, -0.4682, -0.2571]\n",
      "['out there', -0.2748, 0.7587, -0.4791, -0.2771]\n",
      "['comp graphics', -0.2922, 0.8012, -0.3709, -0.2852]\n",
      "['in advance', -0.4594, 0.8326, -0.4385, -0.4185]\n",
      "['looking for', -0.6303, 1.1084, -0.5, -0.5719]\n",
      "['it was', -0.203, -0.3097, 0.5254, -0.3136]\n",
      "['and such', -0.2043, -0.3375, 0.5905, -0.2182]\n",
      "['sci space', -0.258, -0.3292, 0.6211, -0.2212]\n",
      "['the moon', -0.3506, -0.4927, 0.831, -0.2138]\n",
      "['the space', -0.2682, -0.5301, 0.8711, -0.2738]\n",
      "['of jesus', -0.0919, -0.1738, -0.2124, 0.4237]\n",
      "['but he', -0.19, -0.2169, -0.1374, 0.4919]\n",
      "['ignorance is', -0.158, -0.1711, -0.1396, 0.5043]\n",
      "['cheers kent', 0.5557, -0.6979, -0.6638, 0.5348]\n",
      "['the fbi', -0.132, -0.2113, -0.2953, 0.552]\n"
     ]
    }
   ],
   "source": [
    "def P4():\n",
    "### STUDENT START ###\n",
    "    \n",
    "    # Creating vectorizers for unigram and bigram features:\n",
    "    vectorizer_unigram = CountVectorizer()\n",
    "    vectorizer_bigram = CountVectorizer(analyzer = 'word', ngram_range = (2,2))\n",
    "\n",
    "    # Defining the 'CreateTable' function, to be called later on using both vectorizers:\n",
    "    def CreateTable(vectorizer):\n",
    "        \n",
    "        # Creating a Logistic Regression model:\n",
    "        train_vect = vectorizer.fit_transform(train_data)\n",
    "        vocabulary = vectorizer.get_feature_names()\n",
    "        clf4 = LogisticRegression(C=0.5, solver=\"liblinear\", multi_class=\"auto\")\n",
    "        clf4.fit(train_vect, train_labels)\n",
    "        \n",
    "        # Checking the top 5 features with the largest weights for each label:\n",
    "        indexes = []\n",
    "        for i in range(4):\n",
    "            \n",
    "            # Sorting and grabing the top 5 values using absolute values:\n",
    "            top5 = clf4.coef_[i].argsort()[-5:]\n",
    "            \n",
    "            # Appending the respective indexes in 'indexes' list:\n",
    "            for index in top5:\n",
    "                indexes.append(index)\n",
    "        \n",
    "        # Printing each word in the vocabulary and its respective categories/label:\n",
    "        print([\"word\"]+categories)\n",
    "        for index in indexes:\n",
    "            table_row = []\n",
    "            table_row.append(vocabulary[index])\n",
    "            for i in range(4):\n",
    "                weight = clf4.coef_[i][index]\n",
    "                table_row.append(round(weight,4))\n",
    "            print(table_row)\n",
    "\n",
    "    # Calling the function for each vectorizer:\n",
    "    CreateTable(vectorizer_unigram)\n",
    "    CreateTable(vectorizer_bigram)\n",
    "    \n",
    "### STUDENT END ###\n",
    "P4()"
   ]
  },
  {
   "cell_type": "markdown",
   "metadata": {
    "colab_type": "text",
    "id": "cY67F-tXFsxt"
   },
   "source": [
    "ANSWER:\n",
    "\n",
    "Most of the bigram words make sense because they are commonly used together (e.g. \"you are\", \"look up\", \" the fbi\", etc.). Surprisingly, there is one weird bigrams \"cheers kent\".\n",
    "\n",
    "Furthermore, some of the largest weights don't fit the class as we would expect, like \"comp graphics\" having the highest weight in \"talk.religion.misc\" and not on \"comp.graphics\" class. Another example is \"the moon\" and \"the space\" having a the largest weight for \"comp.graphics\" than for \"sci.space\". "
   ]
  },
  {
   "cell_type": "markdown",
   "metadata": {
    "colab_type": "text",
    "id": "rVWhSJHHFsxu"
   },
   "source": [
    "### Part 5:\n",
    "\n",
    "To improve generalization, it is common to try preprocessing text in various ways before splitting into words. For example, you could try transforming strings to lower case, replacing sequences of numbers with single tokens, removing various non-letter characters, and shortening long words.\n",
    "\n",
    "Produce a Logistic Regression model (with no preprocessing of text).  Evaluate and show its f1 score and size of the dictionary.\n",
    "\n",
    "Produce an improved Logistic Regression model by preprocessing the text.  Evaluate and show its f1 score and size of the vocabulary.  Try for an improvement in f1 score of at least 0.02.\n",
    "\n",
    "How much did the improved model reduce the vocabulary size?\n",
    "\n",
    "Notes:\n",
    "* Train on the transformed training data.\n",
    "* Evaluate on the transformed development data.\n",
    "* You can use `CountVectorizer(preprocessor=...)` to preprocess strings with your own custom-defined function.\n",
    "* `CountVectorizer` default is to preprocess strings to lower case.\n",
    "* You can use `LogisticRegression(C=0.5, solver=\"liblinear\", multi_class=\"auto\")` to produce a logistic regression model.\n",
    "* You can use `metrics.f1_score(..., average=\"weighted\")` to compute f1 score.\n",
    "* If you're not already familiar with regular expressions for manipulating strings, see https://docs.python.org/2/library/re.html, and re.sub() in particular."
   ]
  },
  {
   "cell_type": "code",
   "execution_count": 20,
   "metadata": {
    "colab": {},
    "colab_type": "code",
    "id": "l7gS3cGpFsxv"
   },
   "outputs": [
    {
     "name": "stdout",
     "output_type": "stream",
     "text": [
      "Original Vocabulary size is:  33291 \n",
      "\n",
      "F1-score, no pre-processing:  0.7069 \n",
      "\n",
      "New Vocabulary size after pre-processing:  20708 \n",
      "\n",
      "Vocabulary was reduced by 12583 words. \n",
      "\n",
      "F1-score, with better pre-processing:  0.7273 \n",
      "\n"
     ]
    }
   ],
   "source": [
    "### STUDENT START ###    \n",
    "def empty_preprocessor(s):\n",
    "    return s\n",
    "\n",
    "def better_preprocessor(s):\n",
    "    \n",
    "    # Make all text lower case:\n",
    "    s = s.lower()\n",
    "    \n",
    "    # Remove all non-letter and non-number characters:\n",
    "    s = re.sub(\"[^a-zA-Z0-9]\", \" \", s)\n",
    "    \n",
    "    #s = re.sub(r\"\\s+[a-zA-Z]\\s+\", \" \", s)\n",
    "        \n",
    "    # Shortens long words:\n",
    "    s = re.sub(\"[a-zA-Z0-9]{15,}\", \"//1\", s)\n",
    "          \n",
    "    # Removes two stop words:\n",
    "    s = re.sub(\"[\\bfor]\", \"\", s)\n",
    "    s = re.sub(\"[\\ban]\", \"\", s)\n",
    "    \n",
    "    # Replaces sequences of numbers with a single '#' token:\n",
    "    # didn't work\n",
    "    # s = re.sub('[0-9]+', '#', s)\n",
    "\n",
    "    return s\n",
    "\n",
    "### STUDENT END ###\n",
    "\n",
    "def P5():\n",
    "### STUDENT START ###\n",
    "\n",
    "    # No Preprocessing:\n",
    "    vectorizer = CountVectorizer(preprocessor = empty_preprocessor)\n",
    "    train_vect = vectorizer.fit_transform(train_data)\n",
    "    dev_vect = vectorizer.transform(dev_data)\n",
    "    vocabulary_nopre = vectorizer.get_feature_names()\n",
    "    print(\"Original Vocabulary size is: \", len(vocabulary_nopre), '\\n')\n",
    "\n",
    "    # Creating the model and checking F1-score:\n",
    "    clf5 = LogisticRegression(C=0.5, solver=\"liblinear\", multi_class=\"auto\")\n",
    "    clf5.fit(train_vect, train_labels)\n",
    "    pred5 = clf5.predict(dev_vect)\n",
    "    f1_score = metrics.f1_score(dev_labels, pred5, average='weighted')\n",
    "    print(\"F1-score, no pre-processing: \", round(f1_score,4), '\\n')\n",
    "\n",
    "    # With Preprocessing:\n",
    "    vectorizer = CountVectorizer(preprocessor = better_preprocessor)\n",
    "    train_vect = vectorizer.fit_transform(train_data)\n",
    "    dev_vect = vectorizer.transform(dev_data)\n",
    "    vocabulary_pre = vectorizer.get_feature_names()\n",
    "    print(\"New Vocabulary size after pre-processing: \", len(vocabulary_pre), '\\n')\n",
    "    print(\"Vocabulary was reduced by\", len(vocabulary_nopre) - len(vocabulary_pre), \"words.\", '\\n')\n",
    "    #print(vocabulary_pre)\n",
    "\n",
    "    # Creating the model and checking F1-score:\n",
    "    clf6 = LogisticRegression(C=0.5, solver=\"liblinear\", multi_class=\"auto\")\n",
    "    clf6.fit(train_vect, train_labels)\n",
    "    pred6 = clf6.predict(dev_vect)\n",
    "    f1_score = metrics.f1_score(dev_labels, pred6, average='weighted')\n",
    "    print(\"F1-score, with better pre-processing: \", round(f1_score,4), '\\n')\n",
    "\n",
    "### STUDENT END ###\n",
    "P5()"
   ]
  },
  {
   "cell_type": "markdown",
   "metadata": {
    "colab_type": "text",
    "id": "Uy-WITbNFsxw"
   },
   "source": [
    "### Part 6:\n",
    "\n",
    "The idea of regularization is to avoid learning very large weights (which are likely to fit the training data, but not generalize well) by adding a penalty to the total size of the learned weights. Logistic regression seeks the set of weights that minimizes errors in the training data AND has a small total size. The default L2 regularization computes this size as the sum of the squared weights (as in Part 3 above). L1 regularization computes this size as the sum of the absolute values of the weights. Whereas L2 regularization makes all the weights relatively small, L1 regularization drives many of the weights to 0, effectively removing unimportant features.\n",
    "\n",
    "For several L1 regularization strengths ...<br/>\n",
    "* Produce a Logistic Regression model using the **L1** regularization strength.  Reduce the vocabulary to only those features that have at least one non-zero weight among the four categories.  Produce a new Logistic Regression model using the reduced vocabulary and **L2** regularization strength of 0.5.  Evaluate and show the L1 regularization strength, vocabulary size, and f1 score associated with the new model.\n",
    "\n",
    "Show a plot of f1 score vs. log vocabulary size.  Each point corresponds to a specific L1 regularization strength used to reduce the vocabulary.\n",
    "\n",
    "How does performance of the models based on reduced vocabularies compare to that of a model based on the full vocabulary?\n",
    "\n",
    "Notes:\n",
    "* Train on the transformed training data.\n",
    "* Evaluate on the transformed development data.\n",
    "* You can use `LogisticRegression(..., penalty=\"l1\")` to produce a logistic regression model using L1 regularization.\n",
    "* You can use `LogisticRegression(..., penalty=\"l2\")` to produce a logistic regression model using L2 regularization.\n",
    "* You can use `LogisticRegression(..., tol=0.015)` to produce a logistic regression model using relaxed gradient descent convergence criteria.  The gradient descent code that trains the logistic regression model sometimes has trouble converging with extreme settings of the C parameter. Relax the convergence criteria by setting tol=.015 (the default is .0001)."
   ]
  },
  {
   "cell_type": "code",
   "execution_count": 8,
   "metadata": {
    "colab": {},
    "colab_type": "code",
    "id": "l6ho31SrFsxx"
   },
   "outputs": [
    {
     "name": "stdout",
     "output_type": "stream",
     "text": [
      "F1-score with Full vocabulary and c=0.5 and penalty=L2 is:  0.6981 \n",
      "\n",
      "F1-score of L2 with Pruned vocabulary by varying c of L1: \n",
      "Value of C =  0.1 F1-score =  0.7015 Vocabulary Size:  844\n",
      "Value of C =  0.2 F1-score =  0.6784 Vocabulary Size:  1472\n",
      "Value of C =  0.30000000000000004 F1-score =  0.6821 Vocabulary Size:  2048\n",
      "Value of C =  0.4 F1-score =  0.6682 Vocabulary Size:  2616\n",
      "Value of C =  0.5 F1-score =  0.6697 Vocabulary Size:  3032\n",
      "Value of C =  0.6000000000000001 F1-score =  0.6802 Vocabulary Size:  3348\n",
      "Value of C =  0.7000000000000001 F1-score =  0.6751 Vocabulary Size:  3816\n",
      "Value of C =  0.8 F1-score =  0.6701 Vocabulary Size:  3972\n",
      "Value of C =  0.9 F1-score =  0.6898 Vocabulary Size:  4304\n",
      "Value of C =  1.0 F1-score =  0.6786 Vocabulary Size:  4504\n"
     ]
    },
    {
     "name": "stderr",
     "output_type": "stream",
     "text": [
      "C:\\Users\\George\\anaconda3\\lib\\site-packages\\sklearn\\svm\\_base.py:985: ConvergenceWarning: Liblinear failed to converge, increase the number of iterations.\n",
      "  warnings.warn(\"Liblinear failed to converge, increase \"\n"
     ]
    },
    {
     "name": "stdout",
     "output_type": "stream",
     "text": [
      "Value of C =  1.1 F1-score =  0.6807 Vocabulary Size:  5440\n"
     ]
    },
    {
     "name": "stderr",
     "output_type": "stream",
     "text": [
      "C:\\Users\\George\\anaconda3\\lib\\site-packages\\sklearn\\svm\\_base.py:985: ConvergenceWarning: Liblinear failed to converge, increase the number of iterations.\n",
      "  warnings.warn(\"Liblinear failed to converge, increase \"\n"
     ]
    },
    {
     "name": "stdout",
     "output_type": "stream",
     "text": [
      "Value of C =  1.2000000000000002 F1-score =  0.6882 Vocabulary Size:  4784\n",
      "Value of C =  1.3 F1-score =  0.6916 Vocabulary Size:  5104\n"
     ]
    },
    {
     "name": "stderr",
     "output_type": "stream",
     "text": [
      "C:\\Users\\George\\anaconda3\\lib\\site-packages\\sklearn\\svm\\_base.py:985: ConvergenceWarning: Liblinear failed to converge, increase the number of iterations.\n",
      "  warnings.warn(\"Liblinear failed to converge, increase \"\n"
     ]
    },
    {
     "name": "stdout",
     "output_type": "stream",
     "text": [
      "Value of C =  1.4000000000000001 F1-score =  0.6939 Vocabulary Size:  5356\n",
      "Value of C =  1.5 F1-score =  0.7031 Vocabulary Size:  6112\n",
      "Value of C =  1.6 F1-score =  0.6884 Vocabulary Size:  5988\n",
      "Value of C =  1.7000000000000002 F1-score =  0.6919 Vocabulary Size:  5572\n",
      "Value of C =  1.8 F1-score =  0.6855 Vocabulary Size:  6616\n",
      "Value of C =  1.9000000000000001 F1-score =  0.6759 Vocabulary Size:  6292\n"
     ]
    },
    {
     "name": "stderr",
     "output_type": "stream",
     "text": [
      "C:\\Users\\George\\anaconda3\\lib\\site-packages\\sklearn\\svm\\_base.py:985: ConvergenceWarning: Liblinear failed to converge, increase the number of iterations.\n",
      "  warnings.warn(\"Liblinear failed to converge, increase \"\n"
     ]
    },
    {
     "name": "stdout",
     "output_type": "stream",
     "text": [
      "Value of C =  2.0 F1-score =  0.6898 Vocabulary Size:  6000\n",
      "Value of C =  2.1 F1-score =  0.6946 Vocabulary Size:  6656\n"
     ]
    },
    {
     "name": "stderr",
     "output_type": "stream",
     "text": [
      "C:\\Users\\George\\anaconda3\\lib\\site-packages\\sklearn\\svm\\_base.py:985: ConvergenceWarning: Liblinear failed to converge, increase the number of iterations.\n",
      "  warnings.warn(\"Liblinear failed to converge, increase \"\n"
     ]
    },
    {
     "name": "stdout",
     "output_type": "stream",
     "text": [
      "Value of C =  2.2 F1-score =  0.695 Vocabulary Size:  7908\n"
     ]
    },
    {
     "name": "stderr",
     "output_type": "stream",
     "text": [
      "C:\\Users\\George\\anaconda3\\lib\\site-packages\\sklearn\\svm\\_base.py:985: ConvergenceWarning: Liblinear failed to converge, increase the number of iterations.\n",
      "  warnings.warn(\"Liblinear failed to converge, increase \"\n"
     ]
    },
    {
     "name": "stdout",
     "output_type": "stream",
     "text": [
      "Value of C =  2.3000000000000003 F1-score =  0.6834 Vocabulary Size:  9068\n",
      "Value of C =  2.4000000000000004 F1-score =  0.6934 Vocabulary Size:  6872\n",
      "Value of C =  2.5 F1-score =  0.6872 Vocabulary Size:  7320\n"
     ]
    },
    {
     "name": "stderr",
     "output_type": "stream",
     "text": [
      "C:\\Users\\George\\anaconda3\\lib\\site-packages\\sklearn\\svm\\_base.py:985: ConvergenceWarning: Liblinear failed to converge, increase the number of iterations.\n",
      "  warnings.warn(\"Liblinear failed to converge, increase \"\n"
     ]
    },
    {
     "name": "stdout",
     "output_type": "stream",
     "text": [
      "Value of C =  2.6 F1-score =  0.6959 Vocabulary Size:  10024\n",
      "Value of C =  2.7 F1-score =  0.6949 Vocabulary Size:  7408\n",
      "Value of C =  2.8000000000000003 F1-score =  0.6826 Vocabulary Size:  6820\n"
     ]
    },
    {
     "name": "stderr",
     "output_type": "stream",
     "text": [
      "C:\\Users\\George\\anaconda3\\lib\\site-packages\\sklearn\\svm\\_base.py:985: ConvergenceWarning: Liblinear failed to converge, increase the number of iterations.\n",
      "  warnings.warn(\"Liblinear failed to converge, increase \"\n"
     ]
    },
    {
     "name": "stdout",
     "output_type": "stream",
     "text": [
      "Value of C =  2.9000000000000004 F1-score =  0.6926 Vocabulary Size:  9632\n",
      "Value of C =  3.0 F1-score =  0.6948 Vocabulary Size:  7792\n",
      "Value of C =  3.1 F1-score =  0.6948 Vocabulary Size:  7980\n",
      "Value of C =  3.2 F1-score =  0.6863 Vocabulary Size:  8840\n",
      "Value of C =  3.3000000000000003 F1-score =  0.6861 Vocabulary Size:  9016\n",
      "Value of C =  3.4000000000000004 F1-score =  0.6902 Vocabulary Size:  9284\n",
      "Value of C =  3.5 F1-score =  0.6921 Vocabulary Size:  8700\n",
      "Value of C =  3.6 F1-score =  0.683 Vocabulary Size:  10352\n",
      "Value of C =  3.7 F1-score =  0.6923 Vocabulary Size:  7724\n",
      "Value of C =  3.8000000000000003 F1-score =  0.6877 Vocabulary Size:  8780\n",
      "Value of C =  3.9000000000000004 F1-score =  0.7027 Vocabulary Size:  10252\n",
      "Value of C =  4.0 F1-score =  0.7066 Vocabulary Size:  9184\n",
      "Value of C =  4.1000000000000005 F1-score =  0.6818 Vocabulary Size:  9648\n",
      "Value of C =  4.2 F1-score =  0.6851 Vocabulary Size:  9108\n",
      "Value of C =  4.3 F1-score =  0.6754 Vocabulary Size:  8312\n",
      "Value of C =  4.4 F1-score =  0.704 Vocabulary Size:  9656\n",
      "Value of C =  4.5 F1-score =  0.6904 Vocabulary Size:  10240\n",
      "Value of C =  4.6000000000000005 F1-score =  0.6954 Vocabulary Size:  9644\n",
      "Value of C =  4.7 F1-score =  0.6901 Vocabulary Size:  10376\n",
      "Value of C =  4.800000000000001 F1-score =  0.687 Vocabulary Size:  10752\n",
      "Value of C =  4.9 F1-score =  0.6898 Vocabulary Size:  10688\n",
      "Value of C =  5.0 F1-score =  0.6946 Vocabulary Size:  12160\n",
      "Value of C =  5.1000000000000005 F1-score =  0.6931 Vocabulary Size:  11108\n",
      "Value of C =  5.2 F1-score =  0.6999 Vocabulary Size:  9184\n",
      "Value of C =  5.300000000000001 F1-score =  0.7033 Vocabulary Size:  9176\n",
      "Value of C =  5.4 F1-score =  0.7097 Vocabulary Size:  11156\n",
      "Value of C =  5.5 F1-score =  0.6841 Vocabulary Size:  10964\n",
      "Value of C =  5.6000000000000005 F1-score =  0.7039 Vocabulary Size:  9728\n",
      "Value of C =  5.7 F1-score =  0.7051 Vocabulary Size:  9616\n",
      "Value of C =  5.800000000000001 F1-score =  0.6878 Vocabulary Size:  10396\n",
      "Value of C =  5.9 F1-score =  0.6912 Vocabulary Size:  10668\n",
      "Value of C =  6.0 F1-score =  0.6984 Vocabulary Size:  10392\n",
      "Value of C =  6.1000000000000005 F1-score =  0.6951 Vocabulary Size:  10464\n",
      "Value of C =  6.2 F1-score =  0.703 Vocabulary Size:  10396\n",
      "Value of C =  6.300000000000001 F1-score =  0.7031 Vocabulary Size:  11860\n",
      "Value of C =  6.4 F1-score =  0.6861 Vocabulary Size:  11472\n",
      "Value of C =  6.5 F1-score =  0.6994 Vocabulary Size:  12472\n",
      "Value of C =  6.6000000000000005 F1-score =  0.6961 Vocabulary Size:  10088\n",
      "Value of C =  6.7 F1-score =  0.6918 Vocabulary Size:  12792\n",
      "Value of C =  6.800000000000001 F1-score =  0.7146 Vocabulary Size:  12684\n",
      "Value of C =  6.9 F1-score =  0.6876 Vocabulary Size:  11412\n",
      "Value of C =  7.0 F1-score =  0.7021 Vocabulary Size:  14104\n",
      "Value of C =  7.1000000000000005 F1-score =  0.7026 Vocabulary Size:  12696\n",
      "Value of C =  7.2 F1-score =  0.6874 Vocabulary Size:  12312\n",
      "Value of C =  7.300000000000001 F1-score =  0.7058 Vocabulary Size:  11284\n",
      "Value of C =  7.4 F1-score =  0.6994 Vocabulary Size:  13084\n",
      "Value of C =  7.5 F1-score =  0.6935 Vocabulary Size:  13264\n",
      "Value of C =  7.6000000000000005 F1-score =  0.7103 Vocabulary Size:  15276\n",
      "Value of C =  7.7 F1-score =  0.697 Vocabulary Size:  12776\n",
      "Value of C =  7.800000000000001 F1-score =  0.7037 Vocabulary Size:  10948\n",
      "Value of C =  7.9 F1-score =  0.7111 Vocabulary Size:  12524\n",
      "Value of C =  8.0 F1-score =  0.7059 Vocabulary Size:  13536\n",
      "Value of C =  8.1 F1-score =  0.6827 Vocabulary Size:  11648\n",
      "Value of C =  8.200000000000001 F1-score =  0.6913 Vocabulary Size:  11788\n",
      "Value of C =  8.3 F1-score =  0.688 Vocabulary Size:  13008\n",
      "Value of C =  8.4 F1-score =  0.6947 Vocabulary Size:  12892\n",
      "Value of C =  8.5 F1-score =  0.6928 Vocabulary Size:  12944\n",
      "Value of C =  8.6 F1-score =  0.6979 Vocabulary Size:  11800\n",
      "Value of C =  8.700000000000001 F1-score =  0.6997 Vocabulary Size:  13284\n",
      "Value of C =  8.8 F1-score =  0.7033 Vocabulary Size:  12344\n",
      "Value of C =  8.9 F1-score =  0.7029 Vocabulary Size:  12260\n",
      "Value of C =  9.0 F1-score =  0.7003 Vocabulary Size:  12080\n",
      "Value of C =  9.1 F1-score =  0.6908 Vocabulary Size:  15024\n",
      "Value of C =  9.200000000000001 F1-score =  0.699 Vocabulary Size:  14284\n",
      "Value of C =  9.3 F1-score =  0.6821 Vocabulary Size:  13564\n",
      "Value of C =  9.4 F1-score =  0.7009 Vocabulary Size:  12404\n",
      "Value of C =  9.5 F1-score =  0.6933 Vocabulary Size:  13388\n",
      "Value of C =  9.600000000000001 F1-score =  0.7 Vocabulary Size:  13416\n",
      "Value of C =  9.700000000000001 F1-score =  0.7073 Vocabulary Size:  12096\n",
      "Value of C =  9.8 F1-score =  0.694 Vocabulary Size:  13612\n",
      "Value of C =  9.9 F1-score =  0.689 Vocabulary Size:  14040\n"
     ]
    },
    {
     "data": {
      "image/png": "[encoded data removed]",
      "text/plain": [
       "<Figure size 432x288 with 1 Axes>"
      ]
     },
     "metadata": {
      "needs_background": "light"
     },
     "output_type": "display_data"
    },
    {
     "name": "stdout",
     "output_type": "stream",
     "text": [
      "The best value of C is:  6.7 Max f1_score:  0.7146236181434897\n"
     ]
    }
   ],
   "source": [
    "def P6():\n",
    "    # Keep this random seed here to make comparison easier.\n",
    "    np.random.seed(0)\n",
    "\n",
    "    ### STUDENT START ###\n",
    "    \n",
    "    # Creating vectorizer and fit/transform data:\n",
    "    vectorizer = CountVectorizer()\n",
    "    train_vect = vectorizer.fit_transform(train_data)\n",
    "    dev_vect = vectorizer.transform(dev_data)\n",
    "    \n",
    "    # Creating Logistic Regression model, fit with trian data, predict with dev data. Checking accuracy with L2:\n",
    "    clf7 = LogisticRegression(C=0.5, solver=\"liblinear\", penalty = \"l2\", tol=0.015)\n",
    "    clf7.fit(train_vect, train_labels)\n",
    "    pred7 = clf7.predict(dev_vect)\n",
    "    print(\"F1-score with Full vocabulary and c=0.5 and penalty=L2 is: \", round(metrics.f1_score(dev_labels, pred7, average='weighted'),4), \"\\n\")\n",
    "    \n",
    "    print(\"F1-score of L2 with Pruned vocabulary by varying c of L1: \")\n",
    "    # Iterating through a range of 'C' values, keeping track of respective accuracies and vocabulary sizes:\n",
    "    c_values = [i*0.1 for i in range(1,100)]\n",
    "    f1_score_list = []\n",
    "    vocab_list = []\n",
    "    for c in c_values:\n",
    "        # Creating Logistic Regression model with L1, fit with trian data to prune the data:\n",
    "        clf8 = LogisticRegression(C=c, solver=\"liblinear\", penalty = \"l1\", tol=0.015)\n",
    "        clf8.fit(train_vect, train_labels)\n",
    "  \n",
    "        # Grabbing all non-zero weights and calculate the vocaulary size:\n",
    "        non_zero = clf8.coef_ != 0\n",
    "        non_zero = np.any(non_zero, axis=0)\n",
    "        #vocab_size = np.count_nonzero(clf8.coef_)\n",
    "        #vocab_list.append(vocab_size)\n",
    "        \n",
    "        # Prunning train and dev vector data, keeping only features that have at least one non-zero weight:\n",
    "        pruned_train_vect = train_vect[:,non_zero]\n",
    "        pruned_dev_vect = dev_vect[:,non_zero]\n",
    "        \n",
    "        # Evalulate the pruned data with L2 logistic regression\n",
    "        clf11 = LogisticRegression(C=0.5, solver=\"liblinear\", penalty = \"l2\", tol=0.015)\n",
    "        clf11.fit(pruned_train_vect, train_labels)\n",
    "        pred11 = clf11.predict(pruned_dev_vect)\n",
    "        f1_score = metrics.f1_score(dev_labels, pred11, average='weighted')\n",
    "        f1_score_list.append(f1_score)\n",
    "\n",
    "\n",
    "        vocab_size = np.count_nonzero(clf11.coef_)\n",
    "        vocab_list.append(vocab_size)\n",
    "        print(\"Value of C = \", c, \"F1-score = \", round(f1_score,4), \"Vocabulary Size: \", vocab_size)\n",
    "    \n",
    "    x1= vocab_list\n",
    "    y_meas1= f1_score_list\n",
    "\n",
    "    plt.plot(x1,y_meas1,'-b') \n",
    "\n",
    "    plt.title('F1 Score vs. Log Vocabulary Size', fontsize=16) \n",
    "    plt.xlabel(\"Log Vocabulary Size\", fontsize=10)\n",
    "    plt.ylabel(\"F1 Score\", fontsize=10)\n",
    "    # Set the x, y axis tick marks text size.\n",
    "    plt.tick_params(\n",
    "    axis='both',          # changes apply to the both-axis\n",
    "    which='both',         # both major and minor ticks are affected\n",
    "    bottom=False,         # ticks along the bottom edge are off\n",
    "    top=False,            # ticks along the top edge are off\n",
    "    left=False,           # ticks along the left edge are off\n",
    "    right=False,          # ticks along the right edge are off\n",
    "    labelsize=8)\n",
    "    \n",
    "    plt.show()\n",
    "    \n",
    "    max_f1_score = max(f1_score_list)\n",
    "    index = f1_score_list.index(max_f1_score)\n",
    "    best_c = index/10\n",
    "    print(\"The best value of C is: \", best_c, \"Max f1_score: \", max_f1_score) \n",
    "\n",
    "    ### STUDENT END ###\n",
    "P6()"
   ]
  },
  {
   "cell_type": "markdown",
   "metadata": {
    "colab_type": "text",
    "id": "bZmIPwExFsx1"
   },
   "source": [
    "ANSWER:\n",
    "\n",
    "After optimizing the pruning size, L2 have better F1-score with pruned data than full data. This suggests the full vocabulary must have some noisy features that is causing overfitting in the dev data. Interestingly, the graph shows a V shape, this suggests we need to be careful with pruning as they are local maxima. "
   ]
  },
  {
   "cell_type": "markdown",
   "metadata": {
    "colab_type": "text",
    "id": "QmrHf8AMFsxz"
   },
   "source": [
    "### Part 7:\n",
    "\n",
    "How is `TfidfVectorizer` different than `CountVectorizer`?\n",
    "\n",
    "Produce a Logistic Regression model based on data represented in tf-idf form, with L2 regularization strength of 100.  Evaluate and show the f1 score.  How is `TfidfVectorizer` different than `CountVectorizer`?\n",
    "\n",
    "Show the 3 documents with highest R ratio, where ...<br/>\n",
    "$R\\,ratio = maximum\\,predicted\\,probability \\div predicted\\,probability\\,of\\,correct\\,label$\n",
    "\n",
    "Explain what the R ratio describes.  What kinds of mistakes is the model making? Suggest a way to address one particular issue that you see.\n",
    "\n",
    "Note:\n",
    "* Train on the transformed training data.\n",
    "* Evaluate on the transformed development data.\n",
    "* You can use `TfidfVectorizer` and its `.fit_transform` method to transform data to tf-idf form.\n",
    "* You can use `LogisticRegression(C=100, solver=\"liblinear\", multi_class=\"auto\")` to produce a logistic regression model.\n",
    "* You can use `LogisticRegression`'s `.predict_proba` method to access predicted probabilities."
   ]
  },
  {
   "cell_type": "code",
   "execution_count": 23,
   "metadata": {
    "colab": {},
    "colab_type": "code",
    "id": "8vwU_9t2Fsx0"
   },
   "outputs": [
    {
     "name": "stdout",
     "output_type": "stream",
     "text": [
      "F1-score with TfidfVectorizer and c=100 and penalty=L2 is:  0.7598 \n",
      "\n",
      "Top 3 Documents are:\n",
      "\n",
      " Document in index  216  has R value of : 929.0 \n",
      "\n",
      "Predicted Category:  talk.religion.misc\n",
      "Correct Category:  sci.space \n",
      "\n",
      "I am pleased to announce that a *revised version* of _The Easy-to-Read Book\n",
      "of Mormon_ (former title: _Mormon's Book_) by Lynn Matthews Anderson is now\n",
      "available through anonymous ftp (see information below). In addition to the\n",
      "change in title, the revised ETR BOM has been shortened by several pages\n",
      "(eliminating many extraneous \"that's\" and \"of's\"), and many (minor) errors\n",
      "have been corrected. This release includes a simplified Joseph Smith Story,\n",
      "testimonies of the three and eight witnesses, and a \"Words-to-Know\"\n",
      "glossary.\n",
      "\n",
      "As with the previous announcement, readers are reminded that this is a\n",
      "not-for-profit endeavor. This is a copyrighted work, but people are welcome\n",
      "to make *verbatim* copies for personal use. People can recuperate the\n",
      "actual costs of printing (paper, copy center charges), but may not charge\n",
      "anything for their time in making copies, or in any way realize a profit\n",
      "from the use of this book. See the permissions notice in the book itself\n",
      "for the precise terms.\n",
      "\n",
      "Negotiations are currently underway with a Mormon publisher vis-a-vis the\n",
      "printing and distribution of bound books. (Sorry, I'm out of the wire-bound\n",
      "\"first editions.\") I will make another announcement about the availability\n",
      "of printed copies once everything has been worked out.\n",
      "\n",
      "FTP information: connect via anonymous ftp to carnot.itc.cmu.edu, then \"cd\n",
      "pub\" (you won't see anything at all until you do).\n",
      "\n",
      "\"The Easy-to-Read Book of Mormon\" is currently available in postscript and\n",
      "RTF (rich text format). (ASCII, LaTeX, and other versions can be made\n",
      "available; contact dba@andrew.cmu.edu for details.) You should be able to\n",
      "print the postscript file on any postscript printer (such as an Apple\n",
      "Laserwriter); let dba know if you have any difficulties. (The postscript in\n",
      "the last release had problems on some printers; this time it should work\n",
      "better.) RTF is a standard document interchange format that can be read in\n",
      "by a number of word processors, including Microsoft Word for both the\n",
      "Macintosh and Windows. If you don't have a postscript printer, you may be\n",
      "able to use the RTF file to print out a copy of the book.\n",
      "\n",
      "-r--r--r--  1 dba                   1984742 Apr 27 13:12 etrbom.ps\n",
      "-r--r--r--  1 dba                   1209071 Apr 27 13:13 etrbom.rtf\n",
      "\n",
      "For more information about how this project came about, please refer to my\n",
      "article in the current issue of _Sunstone_, entitled \"Delighting in\n",
      "Plainness: Issues Surrounding a Simple Modern English Book of Mormon.\"\n",
      "\n",
      "Send all inquiries and comments to:\n",
      "\n",
      "    Lynn Matthews Anderson\n",
      "    5806 Hampton Street\n",
      "    Pittsburgh, PA 15206\n",
      "\n",
      " Document in index  666  has R value of : 325.0 \n",
      "\n",
      "Predicted Category:  talk.religion.misc\n",
      "Correct Category:  sci.space \n",
      "\n",
      "Can anyone provide me a ftp site where I can obtain a online version\n",
      "of the Book of Mormon. Please email the internet address if possible.\n",
      "\n",
      " Document in index  608  has R value of : 287.0 \n",
      "\n",
      "Predicted Category:  sci.space\n",
      "Correct Category:  alt.atheism \n",
      "\n",
      "\n",
      "The 24 children were, of course, killed by a lone gunman in a second story\n",
      "window, who fired eight bullets in the space of two seconds...\n",
      "\n"
     ]
    }
   ],
   "source": [
    "def P7():\n",
    "### STUDENT START ###\n",
    "\n",
    "    # Using 'TfidfVectorizer' instead of 'CountVectorizer':\n",
    "    vectorizer = TfidfVectorizer()\n",
    "    train_vect = vectorizer.fit_transform(train_data)\n",
    "    dev_vect = vectorizer.transform(dev_data)\n",
    "    \n",
    "    # Training a Logistic Regression Model with C=100:\n",
    "    clf12 = LogisticRegression(C = 100,solver=\"liblinear\", penalty = \"l2\")\n",
    "    clf12.fit(train_vect, train_labels)\n",
    "    pred12 = clf12.predict(dev_vect)\n",
    "    print(\"F1-score with TfidfVectorizer and c=100 and penalty=L2 is: \", round(metrics.f1_score(dev_labels, pred12, average='weighted'),4), \"\\n\") \n",
    "    # Grabbing specific predicted probabilities:\n",
    "    pred_prob = clf12.predict_proba(dev_vect)\n",
    "    pred_label = clf12.predict(dev_vect)\n",
    "    \n",
    "    correct_preds = []\n",
    "    # Identifying the maximum predicted probability:\n",
    "    max_prob = pred_prob.max(axis = 1)\n",
    "    \n",
    "    # Iterating through all predictions, keeping track of indexes for predicted probability, predicted labels\n",
    "    # and actual label (to confirm predicted probabilities of correct labels):\n",
    "    for i in range(676):\n",
    "        prediction = pred12[i]\n",
    "        predicted_probability = pred_prob[i][prediction]\n",
    "        predict_label = dev_labels[i]\n",
    "        \n",
    "        #Calculating R:\n",
    "        correct_preds.append(max_prob[i] / pred_prob[i][predict_label])\n",
    "    correct_preds = np.asarray(correct_preds)\n",
    "    \n",
    "    # Identifying the top 3 documents:\n",
    "    correct_preds_indexes = correct_preds.argsort()[-3:][::-1]\n",
    "    \n",
    "    print(\"Top 3 Documents are:\")\n",
    "    for index in correct_preds_indexes:\n",
    "        \n",
    "        print(\"\\n\", \"Document in index \", index+1, \" has R value of :\", round(correct_preds[index],0), \"\\n\")\n",
    "        \n",
    "        # Identifying the predicted vs real categories to understand errors model is making:\n",
    "        print(\"Predicted Category: \", categories[pred_label[index]])\n",
    "        print(\"Correct Category: \", categories[dev_labels[index]], \"\\n\")\n",
    "        print(dev_data[index])\n",
    "        \n",
    "\n",
    "## STUDENT END ###\n",
    "P7()"
   ]
  },
  {
   "cell_type": "markdown",
   "metadata": {
    "colab_type": "text",
    "id": "bZmIPwExFsx1"
   },
   "source": [
    "ANSWER:\n",
    "\n",
    "The TfidfVectorizer transforms a count matrix to a normalized tf or tf-idf representation. So although both the CountVectorizer and TfidfVectorizer (with use_idf=False) produce term frequencies, TfidfVectorizer is normalizing the count. Because TfidfVectorizer greatly reduces the effect of outliers (words with very high counts) by normalizing the features, TfidfVectorizer with default options produces a higher F1-score than CountVectorizer does (.7557 vs 0.7084) when testing on dev data. \n",
    "\n",
    "Similar to confusion matrix, higher the R ratios, higher the difference between our predicted probability and actual probability. Therefore we can use it spot samples where we made the most mistakes. \n",
    "\n",
    "Looking at the top 3 examples, one possible issue is that the model is incorrectly classifying because it is taking into consideration a single word instead of the entire text/context. For example, when this model sees the word \"Mormon\", is incorrecting classifying as \"religion\", when it is actually \"sci.space\". This is probably happening because a few key words are being used by the model to define a class (which can lead to errors such as these).\n",
    "\n",
    "One way to address the problem is to use n-gram in order to expand the combinations of words the model uses to classify. This may add additional context to the words and help the model classify correctly."
   ]
  },
  {
   "cell_type": "markdown",
   "metadata": {
    "colab_type": "text",
    "id": "VmsDxtzoFsx1"
   },
   "source": [
    "### Part 8 EXTRA CREDIT:\n",
    "\n",
    "Produce a Logistic Regression model to implement your suggestion from Part 7."
   ]
  },
  {
   "cell_type": "code",
   "execution_count": 24,
   "metadata": {
    "colab": {},
    "colab_type": "code",
    "id": "ZMaqe8c5Fsx2"
   },
   "outputs": [
    {
     "name": "stdout",
     "output_type": "stream",
     "text": [
      "221770\n",
      "F1-score, with better pre-processing:  0.7635\n"
     ]
    }
   ],
   "source": [
    "# One of my ideas was to increase ngram_range to increase contextual information to the data. \n",
    "\n",
    "# Using Preprocessing:\n",
    "#ngram_range = (2,2) stop_words = 'english'\n",
    "vectorizer = TfidfVectorizer(ngram_range = (1,2) )\n",
    "train_vect = vectorizer.fit_transform(train_data)\n",
    "dev_vect = vectorizer.transform(dev_data)\n",
    "vocabulary_pre = vectorizer.get_feature_names()\n",
    "print(len(vocabulary_pre))\n",
    "#print(vocabulary_pre)\n",
    "\n",
    "# Creating the same model and checking F1-score:\n",
    "clf13 = LogisticRegression(C = 100,solver=\"liblinear\", penalty = \"l2\")\n",
    "clf13.fit(train_vect, train_labels)\n",
    "pred13 = clf13.predict(dev_vect)\n",
    "f1_score = metrics.f1_score(dev_labels, pred13, average='weighted')\n",
    "print(\"F1-score, with better pre-processing: \", round(f1_score,4))"
   ]
  },
  {
   "cell_type": "markdown",
   "metadata": {},
   "source": [
    "By adding bigram parameter in 'TfidfVectorizer', model's F1-score improved from 0.7598 in part 7 to 0.7635."
   ]
  }
 ],
 "metadata": {
  "colab": {
   "collapsed_sections": [],
   "name": "firstname_lastname_p2.ipynb",
   "private_outputs": true,
   "provenance": [
    {
     "file_id": "https://github.com/MIDS-W207/Master/blob/master/Projects/firstname_lastname_p2.ipynb",
     "timestamp": 1559779272103
    }
   ],
   "version": "0.3.2"
  },
  "kernelspec": {
   "display_name": "Python 3",
   "language": "python",
   "name": "python3"
  },
  "language_info": {
   "codemirror_mode": {
    "name": "ipython",
    "version": 3
   },
   "file_extension": ".py",
   "mimetype": "text/x-python",
   "name": "python",
   "nbconvert_exporter": "python",
   "pygments_lexer": "ipython3",
   "version": "3.8.5"
  },
  "toc": {
   "base_numbering": 1,
   "nav_menu": {},
   "number_sections": false,
   "sideBar": true,
   "skip_h1_title": true,
   "title_cell": "Table of Contents",
   "title_sidebar": "Contents",
   "toc_cell": false,
   "toc_position": {},
   "toc_section_display": true,
   "toc_window_display": false
  }
 },
 "nbformat": 4,
 "nbformat_minor": 1
}
