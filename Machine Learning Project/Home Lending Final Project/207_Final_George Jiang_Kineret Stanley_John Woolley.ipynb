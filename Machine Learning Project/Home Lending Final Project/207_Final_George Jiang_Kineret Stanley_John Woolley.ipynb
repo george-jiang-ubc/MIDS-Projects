{
 "cells": [
  {
   "cell_type": "markdown",
   "metadata": {
    "id": "GTxHEmTfQN-H"
   },
   "source": [
    "W207 Project Team:\n",
    "\n",
    "George Jiang, Kineret Stanley and John Woolley\n",
    "\n",
    "Apr 16, 2020\n",
    "\n",
    "UC Berkeley MIDS"
   ]
  },
  {
   "cell_type": "markdown",
   "metadata": {
    "id": "Er9QKkG8XzOH"
   },
   "source": [
    "#Premise"
   ]
  },
  {
   "cell_type": "markdown",
   "metadata": {
    "id": "73ux3X9nX2uw"
   },
   "source": [
    "In this Kaggle competition, we seek to train a classifier model to determine whether someone is able to repay a loan for which they have applied given their current application, previous applications, and other historical payment and credit information.\n",
    "\n",
    "The metric used for the competition is Area Under the Curve (AUC), which will be used to evaluate the performance of models during development and final testing.\n",
    "\n",
    "Source: https://www.kaggle.com/c/home-credit-default-risk/overview"
   ]
  },
  {
   "cell_type": "markdown",
   "metadata": {
    "id": "0iDI5luY_5Pj"
   },
   "source": [
    "# Setup "
   ]
  },
  {
   "cell_type": "code",
   "execution_count": null,
   "metadata": {
    "id": "Suz-2KWHeqX4"
   },
   "outputs": [],
   "source": [
    "import os\n",
    "import sys \n",
    "\n",
    "import numpy as np\n",
    "import pandas as pd\n",
    "import matplotlib.pyplot as plt\n",
    "import copy\n",
    "\n",
    "import seaborn as sns\n",
    "\n",
    "from sklearn.pipeline import Pipeline\n",
    "from sklearn.impute import SimpleImputer\n",
    "from sklearn.compose import ColumnTransformer\n",
    "from sklearn.preprocessing import OneHotEncoder\n",
    "from sklearn.preprocessing import MinMaxScaler\n",
    "from sklearn.preprocessing import StandardScaler\n",
    "\n",
    "from sklearn.linear_model import LogisticRegression\n",
    "from sklearn.model_selection import cross_val_score, GridSearchCV\n",
    "from sklearn.metrics import confusion_matrix, classification_report, roc_auc_score, roc_curve\n",
    "from sklearn.model_selection import StratifiedKFold\n",
    "from sklearn.metrics import accuracy_score\n",
    "from imblearn.over_sampling import SMOTE \n",
    "import gc\n",
    "\n",
    "import warnings\n",
    "warnings.filterwarnings('ignore')"
   ]
  },
  {
   "cell_type": "code",
   "execution_count": null,
   "metadata": {
    "id": "tu6pmYCcOBbC"
   },
   "outputs": [],
   "source": [
    "#mount from Google Drive \n",
    "\n",
    "try:\n",
    "  from google.colab import drive\n",
    "  drive.mount('/content/drive', force_remount=True)\n",
    "  path = r'/content/drive/MyDrive/MIDS_w207_final_project'\n",
    "except ModuleNotFoundError:\n",
    "  path = r'data'\n"
   ]
  },
  {
   "cell_type": "code",
   "execution_count": null,
   "metadata": {
    "colab": {
     "base_uri": "https://localhost:8080/"
    },
    "id": "dY6gZ334AdOb",
    "outputId": "e76ffb79-d4b0-4bed-ac8e-9895a1d175b4"
   },
   "outputs": [
    {
     "name": "stdout",
     "output_type": "stream",
     "text": [
      "app_train data holds 307511 obs and 122 variables\n",
      "bureau data holds 1716428 obs and 17 variables\n",
      "prev_app data holds 1670214 obs and 37 variables\n"
     ]
    }
   ],
   "source": [
    "# notebook settings\n",
    "pd.options.display.max_rows = 30\n",
    "pd.options.display.float_format = '{:.4f}'.format\n",
    "\n",
    "df = pd.read_csv(os.path.join(path,'application_train.csv'))\n",
    "bureau = pd.read_csv(os.path.join(path,'bureau.csv'))\n",
    "prev_app = pd.read_csv(os.path.join(path,'previous_application.csv'))\n",
    "print(\"app_train data holds {} obs and {} variables\".format(df.shape[0], df.shape[1]))\n",
    "print(\"bureau data holds {} obs and {} variables\".format(bureau.shape[0], bureau.shape[1]))\n",
    "print(\"prev_app data holds {} obs and {} variables\".format(prev_app.shape[0], prev_app.shape[1]))"
   ]
  },
  {
   "cell_type": "markdown",
   "metadata": {
    "id": "C5nh3UWErt-0"
   },
   "source": [
    "#Modify features based on EDA (separate document)\n"
   ]
  },
  {
   "cell_type": "code",
   "execution_count": null,
   "metadata": {
    "id": "1FueQI-cXuT3"
   },
   "outputs": [],
   "source": [
    "# Referenced https://www.kaggle.com/willkoehrsen/start-here-a-gentle-introduction\n",
    "df['DAYS_EMPLOYED'] = df['DAYS_EMPLOYED'].replace({365243: np.nan})\n",
    "bureau['DAYS_CREDIT_ENDDATE'][bureau['DAYS_CREDIT_ENDDATE'] < 0] = np.nan\n",
    "bureau['AMT_CREDIT_SUM_OVERDUE'][bureau['AMT_CREDIT_SUM_OVERDUE'] < 0] = np.nan\n",
    "bureau['AMT_ANNUITY'][bureau['AMT_ANNUITY'] < 0] = np.nan\n",
    "bureau['AMT_CREDIT_SUM_LIMIT'][bureau['AMT_CREDIT_SUM_LIMIT'] < 0] = np.nan\n",
    "bureau['AMT_CREDIT_SUM_DEBT'][bureau['AMT_CREDIT_SUM_DEBT'] < 0] = np.nan\n",
    "bureau['AMT_CREDIT_SUM'][bureau['AMT_CREDIT_SUM'] < 0] = np.nan\n",
    "bureau['AMT_CREDIT_MAX_OVERDUE'][bureau['AMT_CREDIT_MAX_OVERDUE'] < 0] = np.nan\n",
    "bureau['DAYS_CREDIT_UPDATE'][bureau['DAYS_CREDIT_UPDATE'] > 0] = np.nan\n",
    "prev_app['AMT_DOWN_PAYMENT'][prev_app['AMT_DOWN_PAYMENT'] < 0] = np.nan\n",
    "prev_app['DAYS_FIRST_DRAWING'][prev_app['DAYS_FIRST_DRAWING'] > 0] = np.nan\n",
    "prev_app['DAYS_FIRST_DUE'][prev_app['DAYS_FIRST_DUE'] > 0] = np.nan\n",
    "prev_app['DAYS_LAST_DUE_1ST_VERSION'][prev_app['DAYS_LAST_DUE_1ST_VERSION'] > 0] = np.nan\n",
    "prev_app['DAYS_LAST_DUE'][prev_app['DAYS_LAST_DUE'] > 0] = np.nan\n",
    "prev_app['DAYS_TERMINATION'][prev_app['DAYS_TERMINATION'] > 0] = np.nan\n",
    "prev_app['SELLERPLACE_AREA'][prev_app['SELLERPLACE_AREA'] < 0] = np.nan"
   ]
  },
  {
   "cell_type": "markdown",
   "metadata": {
    "id": "K7ndHahPEEft"
   },
   "source": [
    "# Add New Features"
   ]
  },
  {
   "cell_type": "markdown",
   "metadata": {
    "id": "2U76Majyr4vs"
   },
   "source": [
    "## Previous Application Features"
   ]
  },
  {
   "cell_type": "markdown",
   "metadata": {
    "id": "2N9QDy2wVq9C"
   },
   "source": [
    "Using our domain knowledge, we first created some flags that will be used to create new features later on, see below. "
   ]
  },
  {
   "cell_type": "code",
   "execution_count": null,
   "metadata": {
    "id": "Jydbgd44XuT4"
   },
   "outputs": [],
   "source": [
    "# Create new features - a bit of one hot coding \n",
    "prev_app['APPROVED'] = prev_app['NAME_CONTRACT_STATUS']=='Approved'\n",
    "prev_app['REFUSED'] = prev_app['NAME_CONTRACT_STATUS']=='Refused'\n",
    "prev_app['HIGH_INTEREST'] = prev_app['NAME_YIELD_GROUP']=='high'\n",
    "prev_app['LOW_INTEREST'] = prev_app['NAME_YIELD_GROUP'].isin(['low_normal','low_action'])\n",
    "prev_app['NEW'] = prev_app['NAME_CLIENT_TYPE'].isin(['New'])\n",
    "prev_app['REPEAT'] = prev_app['NAME_CLIENT_TYPE'].isin(['Repeater','Refreshed'])"
   ]
  },
  {
   "cell_type": "markdown",
   "metadata": {
    "id": "u5nobWLhVi_o"
   },
   "source": [
    "sum, mean, min, and max were used to create new features, because they capture different dimensions of the same features, see below."
   ]
  },
  {
   "cell_type": "code",
   "execution_count": null,
   "metadata": {
    "id": "HWBsr_pvXuT5"
   },
   "outputs": [],
   "source": [
    "df_agg = copy.deepcopy(df)\n",
    "\n",
    "prev_new_features = (prev_app.groupby('SK_ID_CURR', as_index=False)\n",
    "             .agg(PRE_APP_COUNT=('SK_ID_PREV','count'),\n",
    "                  APPROVED_LOAN_COUNT=('APPROVED','sum'),\n",
    "                  REFUSED_LOAN_COUNT= ('REFUSED', 'sum'),\n",
    "                  LOW_INTEREST_COUNT = ('LOW_INTEREST', 'sum'),\n",
    "                  HIGH_INTEREST_COUNT = ('HIGH_INTEREST', 'sum'),\n",
    "                  REPEAT_LOAN_COUNT = ('REPEAT','sum'),\n",
    "                  REJECT_REASON_COUNT = ('CODE_REJECT_REASON', 'nunique'),\n",
    "                  TOTAL_PRODUCT_COMBO = ('PRODUCT_COMBINATION', 'nunique'),\n",
    "                  TOTAL_PMT_CNT=('CNT_PAYMENT','sum'),\n",
    "                  AVG_PMT_CNT=('CNT_PAYMENT','mean'),\n",
    "                  MIN_PMT_CNT=('CNT_PAYMENT','min'),\n",
    "                  MAX_PMT_CNT=('CNT_PAYMENT','max'),\n",
    "                  AVG_DAYS_OF_PRE_DEC = ('DAYS_DECISION', 'mean'),\n",
    "                  MIN_DAYS_OF_PRE_DEC = ('DAYS_DECISION', 'min'),\n",
    "                  MAX_DAYS_OF_PRE_DEC = ('DAYS_DECISION', 'max'),\n",
    "                  AVG_INT = ('RATE_INTEREST_PRIVILEGED', 'mean'),\n",
    "                  MIN_INT = ('RATE_INTEREST_PRIVILEGED', 'min'),\n",
    "                  MAX_INT = ('RATE_INTEREST_PRIVILEGED', 'max'),\n",
    "                  AVG_DOWN_PMT = ('RATE_DOWN_PAYMENT','mean'),\n",
    "                  MIN_DOWN_PMT = ('RATE_DOWN_PAYMENT','min'),\n",
    "                  MAX_DOWN_PMT = ('RATE_DOWN_PAYMENT','max'),\n",
    "                  NEW_LOAN_COUNT = ('NEW', 'sum'),\n",
    "                  AVG_SELLERPLACE = ('SELLERPLACE_AREA', 'mean'),\n",
    "                  MIN_SELLERPLACE = ('SELLERPLACE_AREA', 'max'),\n",
    "                  MAX_SELLERPLACE = ('SELLERPLACE_AREA', 'min'),\n",
    "                  AVG_DAYS_TERMINATION = ('DAYS_TERMINATION', 'mean'),\n",
    "                  MIN_DAYS_TERMINATION = ('DAYS_TERMINATION', 'min'),\n",
    "                  MAX_DAYS_TERMINATION = ('DAYS_TERMINATION', 'max'),\n",
    "                  AVG_DAYS_LAST_DUE = ('DAYS_LAST_DUE', 'mean'),\n",
    "                  MIN_DAYS_LAST_DUE = ('DAYS_LAST_DUE', 'min'),\n",
    "                  MAX_DAYS_LAST_DUE = ('DAYS_LAST_DUE', 'max'),\n",
    "                  AVG_AMT_DOWN_PAYMENT = ('AMT_DOWN_PAYMENT', 'mean'),\n",
    "                  MIN_AMT_DOWN_PAYMENT = ('AMT_DOWN_PAYMENT', 'min'),\n",
    "                  MAX_AMT_DOWN_PAYMENT = ('AMT_DOWN_PAYMENT', 'max')\n",
    "                 )\n",
    "            )\n",
    "\n",
    "df_agg = df_agg.merge(prev_new_features, on = ['SK_ID_CURR'], how = 'left')\n"
   ]
  },
  {
   "cell_type": "markdown",
   "metadata": {
    "id": "jyWmbswkVXA2"
   },
   "source": [
    "Ratio is used as features, because it captures the interaction between new features and normalize some features for additional information, see below."
   ]
  },
  {
   "cell_type": "code",
   "execution_count": null,
   "metadata": {
    "id": "-W_jLKR7XuT5"
   },
   "outputs": [],
   "source": [
    "df_agg['APPROVED_RATIO'] = df_agg['APPROVED_LOAN_COUNT']/df_agg['PRE_APP_COUNT']\n",
    "df_agg['REFUSED_RATIO'] = df_agg['REFUSED_LOAN_COUNT']/df_agg['PRE_APP_COUNT']\n",
    "df_agg['APPROVE_REFUSE_RATIO'] = df_agg['APPROVED_LOAN_COUNT']/df_agg['REFUSED_LOAN_COUNT']\n",
    "\n",
    "df_agg['LOW_INT_RATIO'] = df_agg['LOW_INTEREST_COUNT']/df_agg['PRE_APP_COUNT']\n",
    "df_agg['HIGH_INT_RATIO'] = df_agg['HIGH_INTEREST_COUNT']/df_agg['PRE_APP_COUNT']\n",
    "df_agg['LOW_HIGH_INT_RATIO'] = df_agg['LOW_INTEREST_COUNT']/df_agg['HIGH_INTEREST_COUNT']\n",
    "\n",
    "df_agg['NEW_RATIO'] = df_agg['NEW_LOAN_COUNT']/df_agg['PRE_APP_COUNT']\n",
    "df_agg['REPEAT_RATIO'] = df_agg['REPEAT_LOAN_COUNT']/df_agg['PRE_APP_COUNT']\n",
    "df_agg['NEW_REPEAT_RATIO'] = df_agg['NEW_LOAN_COUNT']/df_agg['REPEAT_LOAN_COUNT']"
   ]
  },
  {
   "cell_type": "code",
   "execution_count": null,
   "metadata": {
    "id": "I3GIW05oXuT6"
   },
   "outputs": [],
   "source": [
    "# Feature: MAX Approved Credit\n",
    "subset_1 = prev_app[prev_app['APPROVED']==1]\n",
    "g_1 = subset_1.groupby(['SK_ID_CURR']).agg(MAX_APPROVED_CREDIT = (\"AMT_CREDIT\",'max'))\n",
    "df_agg = df_agg.merge(g_1, on = ['SK_ID_CURR'], how = 'left')\n",
    "df_agg.MAX_APPROVED_CREDIT.fillna(0, inplace=True)"
   ]
  },
  {
   "cell_type": "markdown",
   "metadata": {
    "id": "rgtC0SjRsNRB"
   },
   "source": [
    "## Bureau Features"
   ]
  },
  {
   "cell_type": "markdown",
   "metadata": {
    "id": "x8L-GZHfVBsp"
   },
   "source": [
    "Feature engineering process for Bureau data is the same as the process we did for Previous application, see below. "
   ]
  },
  {
   "cell_type": "code",
   "execution_count": null,
   "metadata": {
    "id": "4EXnAh4eXuT7"
   },
   "outputs": [],
   "source": [
    "bureau['ACTIVE_LOAN'] = bureau['CREDIT_ACTIVE']=='Active'\n",
    "bureau['NON_ACTIVE_LOAN'] = bureau['CREDIT_ACTIVE']!='Active'\n",
    "bureau['CONSUMER_CREDIT'] = bureau['CREDIT_TYPE'].isin(['Consumer credit','Credit card','Car loan','Mortgage'])\n",
    "bureau['BUSINESS_CREDIT'] = bureau['CONSUMER_CREDIT']==False"
   ]
  },
  {
   "cell_type": "code",
   "execution_count": null,
   "metadata": {
    "id": "2ichyXITXuT8"
   },
   "outputs": [],
   "source": [
    "bureau_gb_1 = (bureau.groupby('SK_ID_CURR', as_index=False)\n",
    "             .agg(BUREAU_LOAN_COUNT = ('SK_ID_BUREAU','count'),\n",
    "                  ACTIVE_LOAN_COUNT = ('ACTIVE_LOAN','sum'),\n",
    "                  BUSINESS_LOAN_COUNT = ('BUSINESS_CREDIT', 'sum'),\n",
    "                  BUREAU_LOAN_TYPES_COUNT = ('CREDIT_TYPE', 'nunique'),\n",
    "                  AVG_ACTIVE_DURATION = ('DAYS_CREDIT_ENDDATE','mean'),\n",
    "                  MIN_ACTIVE_DURATION = ('DAYS_CREDIT_ENDDATE','min'),\n",
    "                  MAX_ACTIVE_DURATION = ('DAYS_CREDIT_ENDDATE','max'),\n",
    "                  AVG_DAYS_PAST_CLOSED_LOAN = ('DAYS_ENDDATE_FACT','mean'),\n",
    "                  MIN_DAYS_PAST_CLOSED_LOAN = ('DAYS_ENDDATE_FACT','min'),\n",
    "                  MAX_DAYS_PAST_CLOSED_LOAN = ('DAYS_ENDDATE_FACT','max'),\n",
    "                  TOTAL_CUSTOMER_DEBT = ('AMT_CREDIT_SUM_DEBT', 'sum'),\n",
    "                  TOTAL_CUSTOMER_CREDIT = ('AMT_CREDIT_SUM','sum'),\n",
    "                  TOTAL_CUSTOMER_OVERDUE = ('AMT_CREDIT_SUM_OVERDUE', 'sum'),\n",
    "                  TOTAL_CREDIT_PROLONG = ('CNT_CREDIT_PROLONG','count')\n",
    "                 )\n",
    "            )\n",
    "\n",
    "\n",
    "#Feature: Avg # Loans Per Loan Types\n",
    "bureau_gb_1['AVERAGE_LOAN_TYPE'] = bureau_gb_1['BUREAU_LOAN_COUNT']/bureau_gb_1['BUREAU_LOAN_TYPES_COUNT']\n",
    "\n",
    "# Feature: % Active Loans\n",
    "bureau_gb_1['ACTIVE_PERCENT'] = bureau_gb_1['ACTIVE_LOAN_COUNT']/bureau_gb_1['BUREAU_LOAN_COUNT']\n",
    "\n",
    "# Feature: % Business Loans\n",
    "bureau_gb_1['BUSINESS_PERCENT'] = bureau_gb_1['BUSINESS_LOAN_COUNT']/bureau_gb_1['BUREAU_LOAN_COUNT']\n",
    "\n",
    "# Feature : Debt Over Credit Limit Ratio\n",
    "bureau['AMT_CREDIT_SUM_DEBT'] = bureau['AMT_CREDIT_SUM_DEBT'].fillna(0)\n",
    "bureau['AMT_CREDIT_SUM'] = bureau['AMT_CREDIT_SUM'].fillna(0)\n",
    "\n",
    "bureau_gb_1['TOTAL_DEBT_CREDIT_RATIO'] = bureau_gb_1['TOTAL_CUSTOMER_DEBT']/bureau_gb_1['TOTAL_CUSTOMER_CREDIT']\n",
    "\n",
    "# Feature : Overdue Over Debt Ratio\n",
    "bureau['AMT_CREDIT_SUM_OVERDUE'] = bureau['AMT_CREDIT_SUM_OVERDUE'].fillna(0)\n",
    "bureau_gb_1['TOTAL_OVERDUE_DEBT_RATIO'] = bureau_gb_1['TOTAL_CUSTOMER_OVERDUE']/bureau_gb_1['TOTAL_CUSTOMER_DEBT']\n",
    "\n",
    "df_agg = df_agg.merge(bureau_gb_1, on = ['SK_ID_CURR'], how = 'left')\n"
   ]
  },
  {
   "cell_type": "code",
   "execution_count": null,
   "metadata": {
    "id": "RJ1jC9HqPVQR"
   },
   "outputs": [],
   "source": [
    "# conditional count and merge\n",
    "subset_1 = bureau[bureau['ACTIVE_LOAN']==1]\n",
    "g_1 = subset_1.groupby(['SK_ID_CURR']).agg(ACTIVE_CREDIT_PROLONG= (\"CNT_CREDIT_PROLONG\",'count'))\n",
    "df_agg = df_agg.merge(g_1, on = ['SK_ID_CURR'], how = 'left')\n",
    "df_agg.ACTIVE_CREDIT_PROLONG.fillna(0, inplace=True)\n",
    "\n",
    "subset_1 = bureau[bureau['CREDIT_ACTIVE']=='Bad debt']\n",
    "g_1 = subset_1.groupby(['SK_ID_CURR']).agg(TOTAL_BAD_DEBT = (\"SK_ID_BUREAU\",'count'))\n",
    "df_agg = df_agg.merge(g_1, on = ['SK_ID_CURR'], how = 'left')\n",
    "df_agg.TOTAL_BAD_DEBT.fillna(0, inplace=True)\n",
    "\n",
    "\n",
    "subset_1 = bureau[bureau['CREDIT_ACTIVE']=='Sold']\n",
    "g_1 = subset_1.groupby(['SK_ID_CURR']).agg(TOTAL_SOLD_DEBT = (\"SK_ID_BUREAU\",'count'))\n",
    "df_agg = df_agg.merge(g_1, on = ['SK_ID_CURR'], how = 'left')\n",
    "df_agg.TOTAL_SOLD_DEBT.fillna(0, inplace=True)\n"
   ]
  },
  {
   "cell_type": "markdown",
   "metadata": {
    "id": "H4NmI55cs0dQ"
   },
   "source": [
    "## Current Application Features"
   ]
  },
  {
   "cell_type": "markdown",
   "metadata": {
    "id": "_McFBRirUMqb"
   },
   "source": [
    "In addition to add new features from the current application, we also created new ratios by using new features from previous application and bureau data, see below."
   ]
  },
  {
   "cell_type": "code",
   "execution_count": null,
   "metadata": {
    "id": "W-etO6JRXuT-"
   },
   "outputs": [],
   "source": [
    "df_agg['BAD_PERCENT'] = df_agg['TOTAL_BAD_DEBT']/df_agg['BUREAU_LOAN_COUNT']\n",
    "df_agg['SOLD_PERCENT'] = df_agg['TOTAL_SOLD_DEBT']/df_agg['BUREAU_LOAN_COUNT']\n",
    "df_agg['APP_CREDIT_INCOME_RATIO'] = df_agg['AMT_CREDIT'] / df_agg['AMT_INCOME_TOTAL']\n",
    "df_agg['CURRENT_CREDIT_INCOME_RATIO'] = df_agg['TOTAL_CUSTOMER_CREDIT'] / df_agg['AMT_INCOME_TOTAL']\n",
    "df_agg['CURRENT_DEBT_INCOME_RATIO'] = df_agg['TOTAL_CUSTOMER_DEBT'] / df_agg['AMT_INCOME_TOTAL']\n",
    "df_agg['ANNUITY_INCOME_RATIO'] = df_agg['AMT_ANNUITY'] / df_agg['AMT_INCOME_TOTAL']\n",
    "df_agg['CREDIT_TERM'] = df_agg['AMT_ANNUITY'] / df_agg['AMT_CREDIT']\n",
    "df_agg['DAYS_EMPLOYED_RATIO'] = df_agg['DAYS_EMPLOYED'] / df_agg['DAYS_BIRTH']\n",
    "df_agg['APP_CREDIT_MAX_APPROVED_RATIO'] = df_agg['AMT_CREDIT'] / df_agg['MAX_APPROVED_CREDIT']\n",
    "\n",
    "df_agg = df_agg.replace([np.inf, -np.inf], np.nan)"
   ]
  },
  {
   "cell_type": "markdown",
   "metadata": {
    "id": "cVZF3mpugJ5m"
   },
   "source": [
    "# Imputation and Data Split"
   ]
  },
  {
   "cell_type": "markdown",
   "metadata": {
    "id": "vNEp_RS-WDME"
   },
   "source": [
    "To capture more information from the data we tried various imputation techniques. After comparison, we decided to use the iterative imputation (or maximum likilihood imputation), see below, because it worked the best on dev data performance. \n",
    "\n",
    "We also tried various scaler functions, see library below. There is not significant performance difference between them when tested on Dev data. We decided to use MinMaxScaler() because it works better with adding polynomials because we don't have to rescale post adding polynomial. (We didn't end up using polynomial for other reasons discussed later).  We also tried StandardScaler and PowerTransformers, but didn't see any pickup in performance."
   ]
  },
  {
   "cell_type": "code",
   "execution_count": null,
   "metadata": {
    "id": "A6bxh7WMeqYA"
   },
   "outputs": [],
   "source": [
    "# Using pipeline to feature scale numerical values, and hot encode categorical values\n",
    "from sklearn.compose import ColumnTransformer\n",
    "from sklearn.experimental import enable_iterative_imputer\n",
    "from sklearn.impute import IterativeImputer\n",
    "from sklearn.impute import KNNImputer\n",
    "from sklearn.preprocessing import RobustScaler\n",
    "from sklearn.preprocessing import PowerTransformer\n",
    "from sklearn.preprocessing import OneHotEncoder\n",
    "from sklearn.preprocessing import MinMaxScaler\n",
    "from sklearn.preprocessing import StandardScaler\n",
    "\n",
    "num_transformer = Pipeline(\n",
    "    steps = [\n",
    "        #('imputer', SimpleImputer(strategy='median')),\n",
    "        ('scaler', MinMaxScaler()),\n",
    "        ('imputer2', IterativeImputer(initial_strategy='median',\n",
    "                                      n_nearest_features=30))\n",
    "    ]\n",
    ")\n",
    "\n",
    "cat_transformer = Pipeline(\n",
    "    steps = [\n",
    "        ('imputer', SimpleImputer(strategy='constant', fill_value='missing')),\n",
    "        ('onehot', OneHotEncoder(handle_unknown='ignore', sparse=True))\n",
    "    ]\n",
    ")"
   ]
  },
  {
   "cell_type": "code",
   "execution_count": null,
   "metadata": {
    "id": "uScI5o01f_DG"
   },
   "outputs": [],
   "source": [
    "def split_and_process(df):\n",
    "  num_features = df.drop(['TARGET','SK_ID_CURR'], axis = 1).select_dtypes(include=['int64', 'float64']).columns \n",
    "  cat_features = df.drop(['TARGET','SK_ID_CURR'], axis = 1).select_dtypes(include=['object', 'category']).columns\n",
    "\n",
    "  preprocessor = ColumnTransformer(\n",
    "      transformers = [\n",
    "          ('num', num_transformer, num_features),\n",
    "          ('cat', cat_transformer, cat_features)\n",
    "      ], \n",
    "      sparse_threshold=0.9,\n",
    "      n_jobs=-1\n",
    "  )\n",
    "\n",
    "  X = df.drop(['TARGET','SK_ID_CURR'], axis = 1)\n",
    "  y = df.TARGET\n",
    "\n",
    "  X_train_raw, X_test_raw, y_train, y_test = train_test_split(\n",
    "      X, y, test_size=0.10, random_state=42, stratify=y)\n",
    "\n",
    "\n",
    "  X_train_raw, X_dev_raw, y_train, y_dev = train_test_split(\n",
    "      X_train_raw, y_train,\n",
    "      test_size=1/9.,\n",
    "      random_state=42,\n",
    "      stratify=y_train\n",
    "  )\n",
    "\n",
    "  preprocessor.fit(X_train_raw)\n",
    "  X_train = preprocessor.transform(X_train_raw)\n",
    "  X_dev = preprocessor.transform(X_dev_raw)\n",
    "  X_test = preprocessor.transform(X_test_raw)\n",
    "\n",
    "  return X_train, y_train, X_dev, y_dev, X_test, y_test"
   ]
  },
  {
   "cell_type": "markdown",
   "metadata": {
    "id": "EnMJbh1y0O-C"
   },
   "source": [
    "Data were split into training, development and test sets for evaluation later"
   ]
  },
  {
   "cell_type": "code",
   "execution_count": null,
   "metadata": {
    "id": "XUkB_9LtgQqe"
   },
   "outputs": [],
   "source": [
    "# Split and process datasets\n",
    "from sklearn.model_selection import train_test_split\n",
    "# original dataset\n",
    "X_train_og, y_train_og, \\\n",
    "X_dev_og, y_dev_og, \\\n",
    "X_test_og, y_test_og = split_and_process(df)\n",
    "\n",
    "# with additional features\n",
    "X_train_all_features, y_train_all_features, \\\n",
    "X_dev_all_features, y_dev_all_features, \\\n",
    "X_test_all_features, y_test_all_features = split_and_process(df_agg)"
   ]
  },
  {
   "cell_type": "markdown",
   "metadata": {
    "id": "TXhnn_q8qGoA"
   },
   "source": [
    "#Evaluating Models Using Dev Data"
   ]
  },
  {
   "cell_type": "markdown",
   "metadata": {
    "id": "CbJF6HvY3GAc"
   },
   "source": [
    "Logistic regression, random forest, and light gradient boosting method are selected because they are the 3 most common classifiers used in both real life projects and competitions. They also performed the best in our baseline submission. \n",
    "\n",
    "During the evaluation, we will compare the model performance:\n",
    "1. using the current application data only\n",
    "2. add new features\n",
    "3. new features + hyper parameter optimization\n",
    "\n",
    "Sample code for hyper parameter optimization is shown in the appendix."
   ]
  },
  {
   "cell_type": "markdown",
   "metadata": {
    "id": "Ka2J1WOJtvkT"
   },
   "source": [
    "##Logistic Regression baseline + improvements"
   ]
  },
  {
   "cell_type": "code",
   "execution_count": null,
   "metadata": {
    "colab": {
     "base_uri": "https://localhost:8080/"
    },
    "id": "G7VLso2agzY9",
    "outputId": "ea76d96b-9e61-4b6e-d661-0adb4fcd8ecf"
   },
   "outputs": [
    {
     "name": "stdout",
     "output_type": "stream",
     "text": [
      "CPU times: user 4min 12s, sys: 149 ms, total: 4min 12s\n",
      "Wall time: 4min 13s\n"
     ]
    },
    {
     "data": {
      "text/plain": [
       "LogisticRegression(C=9, class_weight={0: 10, 1: 90}, solver='liblinear')"
      ]
     },
     "execution_count": 16,
     "metadata": {
      "tags": []
     },
     "output_type": "execute_result"
    }
   ],
   "source": [
    "%%time\n",
    "\n",
    "# baseline\n",
    "LR_baseline = LogisticRegression()\n",
    "LR_baseline.fit(X_train_og, y_train_og)\n",
    "\n",
    "# all features\n",
    "LR_all_features = LogisticRegression()\n",
    "LR_all_features.fit(X_train_all_features, y_train_all_features)\n",
    "\n",
    "# all features + hyperparameters\n",
    "LR_all_features_hyper = LogisticRegression(C=9, class_weight={0: 10, 1: 90}, dual=False,\n",
    "                   fit_intercept=True, intercept_scaling=1, l1_ratio=None,\n",
    "                   max_iter=100, multi_class='auto', n_jobs=None, penalty='l2',\n",
    "                   random_state=None, solver='liblinear', tol=0.0001, verbose=0,\n",
    "                   warm_start=False)\n",
    "LR_all_features_hyper.fit(X_train_all_features, y_train_all_features)"
   ]
  },
  {
   "cell_type": "code",
   "execution_count": null,
   "metadata": {
    "id": "t8JTYLKKUOjO"
   },
   "outputs": [],
   "source": [
    "LR_base_pred = LR_baseline.predict(X_dev_og)\n",
    "LR_features_pred = LR_all_features.predict(X_dev_all_features)\n",
    "LR_hyper_pred = LR_all_features_hyper.predict(X_dev_all_features)\n",
    "LR_base_probs = LR_baseline.predict_proba(X_dev_og)[:,1]\n",
    "LR_features_probs = LR_all_features.predict_proba(X_dev_all_features)[:,1]\n",
    "LR_hyper_probs = LR_all_features_hyper.predict_proba(X_dev_all_features)[:,1]\n",
    "random_prob = 0.5 * np.ones((len(y_dev_og)))\n",
    "rand_fpr, rand_tpr, _ = roc_curve(y_dev_og, random_prob)\n",
    "LR_base_fpr, LR_base_tpr, _ = roc_curve(y_dev_og, LR_base_probs)\n",
    "LR_features_fpr, LR_features_tpr, _ = roc_curve(y_dev_all_features, LR_features_probs)\n",
    "LR_hyper_fpr, LR_hyper_tpr, _ = roc_curve(y_dev_all_features, LR_hyper_probs)\n"
   ]
  },
  {
   "cell_type": "code",
   "execution_count": null,
   "metadata": {
    "id": "Ka7qLMzcQJuE",
    "outputId": "db7ce97e-a19e-4ad7-e2f3-be996cdf981e"
   },
   "outputs": [
    {
     "name": "stdout",
     "output_type": "stream",
     "text": [
      "Logistic Regression vs Random Assignment\n",
      "Logistic Regression: 0.7540\n",
      "Random Assignment: 0.5000\n"
     ]
    },
    {
     "data": {
      "image/png": "[encoded data removed]",
      "text/plain": [
       "<Figure size 432x288 with 1 Axes>"
      ]
     },
     "metadata": {
      "needs_background": "light",
      "tags": []
     },
     "output_type": "display_data"
    }
   ],
   "source": [
    "plt.plot(rand_fpr, rand_tpr, linestyle='dotted', label='Random')\n",
    "plt.plot(LR_base_fpr, LR_base_tpr, linestyle='solid', label='Baseline Logistic')\n",
    "plt.legend()\n",
    "print(\"Logistic Regression vs Random Assignment\")\n",
    "print(\"Logistic Regression: %.4f\" % roc_auc_score(y_dev_og, LR_base_probs))\n",
    "print(\"Random Assignment: %.4f\" % roc_auc_score(y_dev_og, random_prob))"
   ]
  },
  {
   "cell_type": "code",
   "execution_count": null,
   "metadata": {
    "id": "24T37A7VQJuE",
    "outputId": "545f13bb-6c9a-442b-f10e-f70906c30a8c"
   },
   "outputs": [
    {
     "name": "stdout",
     "output_type": "stream",
     "text": [
      "Logistic Regression Dev AUCs\n",
      "Baseline: 0.7540\n",
      "+ New Features: 0.7550\n",
      "+ New Features + Hyperparameter Optimization: 0.7699\n"
     ]
    },
    {
     "data": {
      "image/png": "[encoded data removed]",
      "text/plain": [
       "<Figure size 432x288 with 1 Axes>"
      ]
     },
     "metadata": {
      "needs_background": "light",
      "tags": []
     },
     "output_type": "display_data"
    }
   ],
   "source": [
    "plt.plot(LR_base_fpr, LR_base_tpr, linestyle='solid', label='Baseline Logistic')\n",
    "plt.plot(LR_features_fpr, LR_features_tpr, linestyle='dashed', label='+ New Features')\n",
    "plt.plot(LR_hyper_fpr, LR_hyper_tpr, linestyle='dashdot', label='+ New Features + HyperParameter Optimization')\n",
    "plt.legend()\n",
    "\n",
    "print(\"Logistic Regression Dev AUCs\")\n",
    "print(\"Baseline: %.4f\" % roc_auc_score(y_dev_og, y_dev_og_probs))\n",
    "print(\"+ New Features: %.4f\" % roc_auc_score(y_dev_all_features, y_dev_all_features_probs))\n",
    "print(\"+ New Features + Hyperparameter Optimization: %.4f\" % roc_auc_score(y_dev_all_features,y_dev_all_features_hyper_probs))"
   ]
  },
  {
   "cell_type": "markdown",
   "metadata": {
    "id": "HutGRizv4Zya"
   },
   "source": [
    "In the above result, both adding new features and optimizing hyperparameter have a positive effect on AUC score. But adding new feature has a bigger impact. This suggest that if we want to improve the model further, more feature engineering would help.\n",
    "\n",
    "We do not show our gridsearch outcomes here, but our final model is based on reviewing different:\n",
    "1. Weights\n",
    "2. Regularizations\n",
    "3. Penalty types\n",
    "\n",
    "We focsed on weights here, because our model is imbalanced. We found that none of the solutions we tried to improve the model balance led to better AUC. And so, we focused on overweighting the minority class (```TARGET == 1```). So, the penalty of wrong prediction of minority class will use weight of 91..the penalty of a wrong prediction of the minority class is 91x more severe. Referenced this [Medium post](https://towardsdatascience.com/weighted-logistic-regression-for-imbalanced-dataset-9a5cd88e68b)."
   ]
  },
  {
   "cell_type": "markdown",
   "metadata": {
    "id": "hpbwaVLsqWcY"
   },
   "source": [
    "## Random Forest baseline + improvements"
   ]
  },
  {
   "cell_type": "code",
   "execution_count": null,
   "metadata": {
    "id": "AKV_gyRSqTbS",
    "outputId": "726243ec-110c-43bc-9c16-3306a5db8e38"
   },
   "outputs": [
    {
     "name": "stdout",
     "output_type": "stream",
     "text": [
      "CPU times: user 3h 51min 11s, sys: 15.6 s, total: 3h 51min 27s\n",
      "Wall time: 16min 2s\n"
     ]
    },
    {
     "data": {
      "text/plain": [
       "RandomForestClassifier(class_weight='balanced', criterion='entropy',\n",
       "                       max_features=50, min_samples_leaf=20,\n",
       "                       min_samples_split=40, n_estimators=200, n_jobs=-1,\n",
       "                       random_state=50)"
      ]
     },
     "execution_count": 18,
     "metadata": {
      "tags": []
     },
     "output_type": "execute_result"
    }
   ],
   "source": [
    "%%time\n",
    "\n",
    "from sklearn.ensemble import RandomForestClassifier\n",
    "\n",
    "#baseline\n",
    "RF_baseline = RandomForestClassifier(n_jobs=-1)\n",
    "RF_baseline.fit(X_train_og, y_train_og)\n",
    "\n",
    "#all features \n",
    "RF_all_features = RandomForestClassifier(n_jobs=-1)\n",
    "RF_all_features.fit(X_train_all_features, y_train_all_features)\n",
    "\n",
    "#all features + hyperparameters\n",
    "RF_all_features_hyper = RandomForestClassifier(n_estimators = 200, min_samples_split = 40, min_samples_leaf = 20,\n",
    "                                               max_features = 50, class_weight ='balanced', criterion = 'entropy',\n",
    "                                               random_state = 50, n_jobs = -1)\n",
    "RF_all_features_hyper.fit(X_train_all_features, y_train_all_features)"
   ]
  },
  {
   "cell_type": "code",
   "execution_count": null,
   "metadata": {
    "id": "vr6KjQk6dQd7",
    "outputId": "3c33637a-5e11-4aa8-ce4c-033b96b4d452"
   },
   "outputs": [
    {
     "name": "stdout",
     "output_type": "stream",
     "text": [
      "Random Forest Dev AUCs\n",
      "Baseline: 0.7124\n",
      "+ New Features: 0.7179\n",
      "+ New Features + Hyperparameter Optimization: 0.7642\n"
     ]
    },
    {
     "data": {
      "image/png": "[encoded data removed]",
      "text/plain": [
       "<Figure size 432x288 with 1 Axes>"
      ]
     },
     "metadata": {
      "needs_background": "light",
      "tags": []
     },
     "output_type": "display_data"
    }
   ],
   "source": [
    "RF_base_pred = RF_baseline.predict(X_dev_og)\n",
    "RF_features_pred = RF_all_features.predict(X_dev_all_features)\n",
    "RF_hyper_pred = RF_all_features_hyper.predict(X_dev_all_features)\n",
    "RF_base_probs = RF_baseline.predict_proba(X_dev_og)[:,1]\n",
    "RF_features_probs = RF_all_features.predict_proba(X_dev_all_features)[:,1]\n",
    "RF_hyper_probs = RF_all_features_hyper.predict_proba(X_dev_all_features)[:,1]\n",
    "RF_base_pr, RF_base_tpr, _ = roc_curve(y_dev_og, RF_base_probs)\n",
    "RF_features_fpr, RF_features_tpr, _ = roc_curve(y_dev_all_features, RF_features_probs)\n",
    "RF_hyper_fpr, RF_hyper_tpr, _ = roc_curve(y_dev_all_features, RF_hyper_probs)\n",
    "# plot the roc curve for the model\n",
    "plt.plot(RF_base_pr, RF_base_tpr, linestyle='solid', label='Baseline')\n",
    "plt.plot(RF_features_fpr, RF_features_tpr, linestyle='dashed', label='+ New Features')\n",
    "plt.plot(RF_hyper_fpr, RF_hyper_tpr, linestyle='dashdot', label='+ New Features + HyperParameter Optimization')\n",
    "print(\"Random Forest Dev AUCs\")\n",
    "print(\"Baseline: %.4f\" % roc_auc_score(y_dev_og, RF_base_probs))\n",
    "print(\"+ New Features: %.4f\" % roc_auc_score(y_dev_all_features, RF_features_probs))\n",
    "print(\"+ New Features + Hyperparameter Optimization: %.4f\" % roc_auc_score(y_dev_all_features,RF_hyper_probs))"
   ]
  },
  {
   "cell_type": "markdown",
   "metadata": {
    "id": "sANHOhWr6iDh"
   },
   "source": [
    "In the above result, adding new features and optimizing hyperparameter both have positive effects on AUC score. Unexpectedly, the hyperparameter optimization has the biggest impact on the model performance. The reason is that Random Forest is very sensitive to imbalanced dataset (only 8% of our training data is class of 1). To correct for the class imbalance, we change the class weight to 'balanced' in the hyperparameter and result shows signficant improvement in the model performance. \n",
    "\n",
    "Compare to logisitic regression, an optimized random forest was able to produce similar result, but at a much, much slower speed. Therefore, it is not recommended."
   ]
  },
  {
   "cell_type": "markdown",
   "metadata": {
    "id": "74CzKm5ZZ4ZW"
   },
   "source": [
    "## Light GBM baseline + improvements"
   ]
  },
  {
   "cell_type": "code",
   "execution_count": null,
   "metadata": {
    "id": "6Yj86UhVZ6c9",
    "outputId": "e44c3402-fb21-4319-c877-5cee3968d54f"
   },
   "outputs": [
    {
     "name": "stdout",
     "output_type": "stream",
     "text": [
      "Dev AUCs\n",
      "Baseline LGBM: 0.7608\n",
      "+ New Features : 0.7802\n",
      "+ New Features + Hyperparameter Optimization: 0.7834\n",
      "CPU times: user 3min 54s, sys: 1min 15s, total: 5min 10s\n",
      "Wall time: 20.4 s\n"
     ]
    }
   ],
   "source": [
    "%%time\n",
    "\n",
    "from lightgbm import LGBMClassifier\n",
    "\n",
    "# baseline\n",
    "LGBM_baseline = LGBMClassifier(n_jobs=-1)\n",
    "LGBM_baseline.fit(X_train_og, y_train_og)\n",
    "\n",
    "# all features\n",
    "LGBM_all_features = LGBMClassifier(n_jobs=-1)\n",
    "LGBM_all_features.fit(X_train_all_features, y_train_all_features)\n",
    "\n",
    "# all features + hyperparameters\n",
    "LGBM_all_features_hyper = LGBMClassifier(n_estimators=600, boosting_type='gbdt', metric='binary_logloss', objective = 'binary',\n",
    "                                          class_weight = 'balanced', num_leaves=20, max_depth =-1,\n",
    "                                          learning_rate = 0.05, reg_alpha = 0.1, reg_lambda = 0.8, \n",
    "                                          subsample = 0.8, n_jobs = -1, random_state = 50)\n",
    "LGBM_all_features_hyper.fit(X_train_all_features, y_train_all_features)\n",
    "\n",
    "gc.collect()"
   ]
  },
  {
   "cell_type": "code",
   "execution_count": null,
   "metadata": {
    "id": "pPQOBnORQJuF",
    "outputId": "6c0e193e-198f-4f9a-c97d-33635a99c5ae"
   },
   "outputs": [
    {
     "name": "stdout",
     "output_type": "stream",
     "text": [
      "LGBM Dev AUCs\n",
      "Baseline: 0.7608\n",
      "+ New Features: 0.7802\n",
      "+ New Features + Hyperparameter Optimization: 0.7834\n"
     ]
    },
    {
     "data": {
      "image/png": "[encoded data removed]",
      "text/plain": [
       "<Figure size 432x288 with 1 Axes>"
      ]
     },
     "metadata": {
      "needs_background": "light",
      "tags": []
     },
     "output_type": "display_data"
    }
   ],
   "source": [
    "LGBM_base_pred = LGBM_baseline.predict(X_dev_og)\n",
    "LGBM_features_pred = LGBM_all_features.predict(X_dev_all_features)\n",
    "LGBM_hyper_pred = LGBM_all_features_hyper.predict(X_dev_all_features)\n",
    "LGBM_base_probs = LGBM_baseline.predict_proba(X_dev_og)[:,1]\n",
    "LGBM_features_probs = LGBM_all_features.predict_proba(X_dev_all_features)[:,1]\n",
    "LGBM_hyper_probs = LGBM_all_features_hyper.predict_proba(X_dev_all_features)[:,1]\n",
    "LGBM_base_fpr, LGBM_base_tpr, _ = roc_curve(y_dev_og, LGBM_base_probs)\n",
    "LGBM_features_fpr, LGBM_features_tpr, _ = roc_curve(y_dev_all_features, LGBM_features_probs)\n",
    "LGBM_hyper_fpr, LGBM_hyper_tpr, _ = roc_curve(y_dev_all_features, LGBM_hyper_probs)\n",
    "# plot the roc curve for the model\n",
    "plt.plot(LGBM_base_fpr, LGBM_base_tpr, linestyle='solid', label='Baseline')\n",
    "plt.plot(LGBM_features_fpr, LGBM_features_tpr, linestyle='dashed', label='+ New Features')\n",
    "plt.plot(LGBM_hyper_fpr, LGBM_hyper_tpr, linestyle='dashdot', label='+ New Features + HyperParameter Optimization')\n",
    "plt.legend()\n",
    "print(\"LGBM Dev AUCs\")\n",
    "print(\"Baseline: %.4f\" % roc_auc_score(y_dev_og, LGBM_base_probs))\n",
    "print(\"+ New Features: %.4f\" % roc_auc_score(y_dev_all_features, LGBM_features_probs))\n",
    "print(\"+ New Features + Hyperparameter Optimization: %.4f\" % roc_auc_score(y_dev_all_features,LGBM_hyper_probs))"
   ]
  },
  {
   "cell_type": "markdown",
   "metadata": {
    "id": "VLD_Zy2h90LF"
   },
   "source": [
    "In the above result, adding new features and optimizing hyperparameter both have positive effects on the AUC score. Similarly to logistic regression, add new feature has bigger effect on the final model performance. This  suggests adding more features would help model performance further. \n",
    "\n",
    "Compared to the other two models, LGBM achieves the highest AUC on the dev set. Therefore, it is the best of 3 models for this problem and if we were competing, we would come up with our test predictions using this model for the submission."
   ]
  },
  {
   "cell_type": "code",
   "execution_count": null,
   "metadata": {
    "id": "bHkXPggsQJuG",
    "outputId": "a165bf1a-f1fc-4b37-816a-40d53e895031"
   },
   "outputs": [
    {
     "data": {
      "text/plain": [
       "<matplotlib.legend.Legend at 0x7fe339a259a0>"
      ]
     },
     "execution_count": 57,
     "metadata": {
      "tags": []
     },
     "output_type": "execute_result"
    },
    {
     "data": {
      "image/png": "[encoded data removed]",
      "text/plain": [
       "<Figure size 432x288 with 1 Axes>"
      ]
     },
     "metadata": {
      "needs_background": "light",
      "tags": []
     },
     "output_type": "display_data"
    }
   ],
   "source": [
    "plt.plot(LGBM_hyper_fpr, LGBM_hyper_tpr, linestyle='solid', label='Optimized Light Gradient Boosting')\n",
    "plt.plot(RF_hyper_fpr, RF_hyper_tpr, linestyle='dashed', label='Optimized Random Forest')\n",
    "plt.plot(LR_hyper_fpr, LR_hyper_tpr, linestyle='dashdot', label='Optimized Logistic Regression')\n",
    "plt.legend()"
   ]
  },
  {
   "cell_type": "code",
   "execution_count": null,
   "metadata": {
    "id": "6t9j8JvvQJuG",
    "outputId": "77eda2a4-c45a-4b04-8f8f-a35b73a13eee"
   },
   "outputs": [
    {
     "name": "stdout",
     "output_type": "stream",
     "text": [
      "LR - Optimized\n",
      "Precision: 0.18968715221961172\n",
      "Recall: 0.6180499597099114\n",
      "\n",
      "RF - Optimized\n",
      "Precision: 0.3062930186823992\n",
      "Recall: 0.2510072522159549\n",
      "\n",
      "LGBM - Optimized\n",
      "Precision: 0.1884920634920635\n",
      "Recall: 0.6889605157131345\n",
      "\n"
     ]
    }
   ],
   "source": [
    "from sklearn.metrics import confusion_matrix\n",
    "from IPython.display import display\n",
    "\n",
    "confusion_matrices = {\n",
    "    'LR - Optimized': confusion_matrix(y_dev_all_features, LR_hyper_pred),\n",
    "    'RF - Optimized': confusion_matrix(y_dev_all_features, RF_hyper_pred),\n",
    "    'LGBM - Optimized': confusion_matrix(y_dev_all_features, LGBM_hyper_pred)\n",
    "}\n",
    "\n",
    "for k, v in confusion_matrices.items():\n",
    "    print(k)\n",
    "    tn, fp, fn, tp = v.ravel()\n",
    "    print('Precision: {}'.format(tp/(tp+fp)))\n",
    "    print('Recall: {}\\n'.format(tp/(tp+fn)))"
   ]
  },
  {
   "cell_type": "markdown",
   "metadata": {
    "id": "H73jtOQgQJuG"
   },
   "source": [
    "When comparing the confusion matrices as an additional information metric, we see that the optimized LR and LGBM both favor Recall over Precision, with LGBM slightly more lopsided, while RF is more balanced, slightly favoring Precision, but doesn't perform as well on either.  Having a higher recall in this case is associated with a higher ratio of true positives to false negatives vs. true positives to false positives, which would imply a conservative approach (i.e., predicting more false positives as opposed to a model with a higher precision)."
   ]
  },
  {
   "cell_type": "markdown",
   "metadata": {
    "id": "Z_L11ilAChyw"
   },
   "source": [
    "#Final Evaluation of Optimized Models on Test Data"
   ]
  },
  {
   "cell_type": "code",
   "execution_count": null,
   "metadata": {
    "id": "hYMAQPdyCoZF",
    "outputId": "9d0222bf-c415-4b50-a547-b296a9282d67"
   },
   "outputs": [
    {
     "name": "stdout",
     "output_type": "stream",
     "text": [
      "TEST AUCs\n",
      "Optimized Logistic Regression: 0.7639\n",
      "Optimized Random Forest: 0.7626\n",
      "Optimized Light Gradient Boosting: 0.7798\n"
     ]
    }
   ],
   "source": [
    "# Logistic Regression\n",
    "LR_all_features_hyper = LogisticRegression(C=9, class_weight={0: 10, 1: 90}, dual=False,\n",
    "                   fit_intercept=True, intercept_scaling=1, l1_ratio=None,\n",
    "                   max_iter=100, multi_class='auto', n_jobs=None, penalty='l2',\n",
    "                   random_state=None, solver='liblinear', tol=0.0001, verbose=0,\n",
    "                   warm_start=False)\n",
    "LR_all_features_hyper.fit(X_train_all_features, y_train_all_features)\n",
    "\n",
    "print(\"TEST AUCs\")\n",
    "print(\"Optimized Logistic Regression: %.4f\" % roc_auc_score(y_test_all_features,\\\n",
    "                                                    LR_all_features_hyper.predict_proba(X_test_all_features)[:,1]))\n",
    "\n",
    "# Random Forest\n",
    "RF_all_features_hyper = RandomForestClassifier(n_estimators = 200, min_samples_split = 40, min_samples_leaf = 20,\n",
    "                                               max_features = 50, class_weight ='balanced', criterion = 'entropy',\n",
    "                                               random_state = 50, n_jobs = -1)\n",
    "RF_all_features_hyper.fit(X_train_all_features, y_train_all_features)\n",
    "\n",
    "print(\"Optimized Random Forest: %.4f\" % roc_auc_score(y_test_all_features,\\\n",
    "                                                    RF_all_features_hyper.predict_proba(X_test_all_features)[:,1]))\n",
    "\n",
    "# Light Gradient Boosting\n",
    "LGBM_all_features_hyper = LGBMClassifier(n_estimators=600, boosting_type='gbdt', metric='binary_logloss', objective = 'binary',\n",
    "                                          class_weight = 'balanced', num_leaves=20, max_depth =-1,\n",
    "                                          learning_rate = 0.05, reg_alpha = 0.1, reg_lambda = 0.8, \n",
    "                                          subsample = 0.8, n_jobs = -1, random_state = 50)\n",
    "LGBM_all_features_hyper.fit(X_train_all_features, y_train_all_features)\n",
    "\n",
    "gc.collect()\n",
    "print('Optimized Light Gradient Boosting: %.4f' %  roc_auc_score(y_test_all_features,\\\n",
    "                                                               LGBM_all_features_hyper.predict_proba(X_test_all_features)[:,1]))"
   ]
  },
  {
   "cell_type": "markdown",
   "metadata": {
    "id": "i00gnCcR-sHP"
   },
   "source": [
    "As expected, all models' performance dropped when evaluated on the test data, because we were overfitting our hyperparameters to our dev data. Therefore, only performance on our test data should be used as an expectation of our score in the comptition. Based on our test data result, light gradient boosting still outperforms the other two models. It also has the least drop in performance on test data, suggesting it is more resilient to overfitting on dev data than other two methods. Therefore, we will use light gradient boosting method in our final submission (not shown), if we were to compete.    \n"
   ]
  },
  {
   "cell_type": "markdown",
   "metadata": {
    "id": "FEokj6sEvkML"
   },
   "source": [
    "# Discussion"
   ]
  },
  {
   "cell_type": "markdown",
   "metadata": {
    "id": "OmiVPwXPxITl"
   },
   "source": [
    "## What Worked"
   ]
  },
  {
   "cell_type": "markdown",
   "metadata": {
    "id": "_Y7W04tn_3fX"
   },
   "source": [
    "Our model evaluation suggests that both **adding new features** and **tweaking hyperparameters** improve the model performance. \n",
    "\n",
    "Initially we suspect that adding too many features would cause overfitting, however in practice that is not the case because each model has its own hyper parameter that deals with overfitting. Therefore, adding useless features doesn't hurt the model performance except computing speed. "
   ]
  },
  {
   "cell_type": "markdown",
   "metadata": {
    "id": "BDFhW_FzxLG8"
   },
   "source": [
    "## What Didn't Work"
   ]
  },
  {
   "cell_type": "markdown",
   "metadata": {
    "id": "GgVqo7bcDI7Y"
   },
   "source": [
    "**Undersampling** - while undersampling solves the issue with imbalanced label, it also drastically reduced our sample size. Because in this case we have a lot of features, we need more samples to accurately use the information from the features. \n",
    "\n",
    "**Oversampling** - Synthetic Minority Oversampling Technique (SMOTE) was used to oversample the data (sample code in appendix). While it both solve the issue with imbalanced data and generate more samples from the original data, it suffers from the curse of dimensionality. Because we have a lot of features, it is just as likely for SMOTE to generate noise or worse misleading data as good data. As result SMOTE are more likily to overfit than original data. \n",
    "\n",
    "**Feature Selection** - Several feature selection methods were selected: PCA, L1 penalty, coefficient or information gain metrics, sample code shown in appendix. At best they produce the same result as before, they don't improve AUC by reduce overfitting, because the algorithms we evaluated already have built-in hyperparameters that help to control overfitting. \n",
    "\n",
    "**Polynomials** - Polynomials were used on features with most information gain, sample code in appendix. The results were mixed, while it helped the logistic regression model, it didn't help decision type models. Worried that it was produce positive result by chance, we decided not to use it in the end. However, it is possible when apply differently, polynomial could still work. "
   ]
  },
  {
   "cell_type": "markdown",
   "metadata": {
    "id": "Uq_7v1ezvnSg"
   },
   "source": [
    "# Conclusion"
   ]
  },
  {
   "cell_type": "markdown",
   "metadata": {
    "id": "89ST7chKTtLW"
   },
   "source": [
    "In this project, we learned how to build a machine learning model for a large, complicated, real life dataset. We also learned how to improve model performance for logistic regression, random forest, and light GBM. Specificially, we learned that feature engineering works the best at improving the model performance. Therefore, if we were to compete in this competition in real life, we would spend much more time doing feature engineering in order to compete. \n",
    "\n",
    "At the same time, we were also humbled by the fact that the leading teams have much higher AUCs (0.81+) than us (~0.78). There must be some ways that improve the model, which we haven't tried it. For example, they may found a way to make polynomials work better or include more or better engineered features. We hope to learn more of these techniques in the coming semesters. "
   ]
  },
  {
   "cell_type": "markdown",
   "metadata": {
    "id": "Ah9uws67XuUF"
   },
   "source": [
    "# Appendix"
   ]
  },
  {
   "cell_type": "markdown",
   "metadata": {
    "id": "vxy7mdJku_sx"
   },
   "source": [
    "## Sample Code for Error Analysis"
   ]
  },
  {
   "cell_type": "code",
   "execution_count": null,
   "metadata": {
    "id": "MyLcq378XuUF"
   },
   "outputs": [],
   "source": [
    "# from sklearn.model_selection import learning_curve\n",
    "# from sklearn.model_selection import ShuffleSplit\n",
    "\n",
    "\n",
    "# def plot_learning_curve(estimator, title, X, y, axes=None, ylim=None, cv=None,\n",
    "#                         n_jobs=None, train_sizes=np.linspace(.1, 1.0, 5)):\n",
    "\n",
    "#     if axes is None:\n",
    "#         _, axes = plt.subplots(1, 3, figsize=(20, 5))\n",
    "\n",
    "#     axes[0].set_title(title)\n",
    "#     if ylim is not None:\n",
    "#         axes[0].set_ylim(*ylim)\n",
    "#     axes[0].set_xlabel(\"Training examples\")\n",
    "#     axes[0].set_ylabel(\"Score\")\n",
    "\n",
    "#     train_sizes, train_scores, test_scores, fit_times, _ = \\\n",
    "#         learning_curve(estimator, X, y, cv=cv, n_jobs=n_jobs,\n",
    "#                        train_sizes=train_sizes,\n",
    "#                        return_times=True)\n",
    "#     train_scores_mean = np.mean(train_scores, axis=1)\n",
    "#     train_scores_std = np.std(train_scores, axis=1)\n",
    "#     test_scores_mean = np.mean(test_scores, axis=1)\n",
    "#     test_scores_std = np.std(test_scores, axis=1)\n",
    "#     fit_times_mean = np.mean(fit_times, axis=1)\n",
    "#     fit_times_std = np.std(fit_times, axis=1)\n",
    "\n",
    "#     # Plot learning curve\n",
    "#     axes[0].grid()\n",
    "#     axes[0].fill_between(train_sizes, train_scores_mean - train_scores_std,\n",
    "#                          train_scores_mean + train_scores_std, alpha=0.1,\n",
    "#                          color=\"r\")\n",
    "#     axes[0].fill_between(train_sizes, test_scores_mean - test_scores_std,\n",
    "#                          test_scores_mean + test_scores_std, alpha=0.1,\n",
    "#                          color=\"g\")\n",
    "#     axes[0].plot(train_sizes, train_scores_mean, 'o-', color=\"r\",\n",
    "#                  label=\"Training score\")\n",
    "#     axes[0].plot(train_sizes, test_scores_mean, 'o-', color=\"g\",\n",
    "#                  label=\"Cross-validation score\")\n",
    "#     axes[0].legend(loc=\"best\")\n",
    "\n",
    "#     # Plot n_samples vs fit_times\n",
    "#     axes[1].grid()\n",
    "#     axes[1].plot(train_sizes, fit_times_mean, 'o-')\n",
    "#     axes[1].fill_between(train_sizes, fit_times_mean - fit_times_std,\n",
    "#                          fit_times_mean + fit_times_std, alpha=0.1)\n",
    "#     axes[1].set_xlabel(\"Training examples\")\n",
    "#     axes[1].set_ylabel(\"fit_times\")\n",
    "#     axes[1].set_title(\"Scalability of the model\")\n",
    "\n",
    "#     # Plot fit_time vs score\n",
    "#     axes[2].grid()\n",
    "#     axes[2].plot(fit_times_mean, test_scores_mean, 'o-')\n",
    "#     axes[2].fill_between(fit_times_mean, test_scores_mean - test_scores_std,\n",
    "#                          test_scores_mean + test_scores_std, alpha=0.1)\n",
    "#     axes[2].set_xlabel(\"fit_times\")\n",
    "#     axes[2].set_ylabel(\"Score\")\n",
    "#     axes[2].set_title(\"Performance of the model\")\n",
    "\n",
    "#     return plt\n",
    "\n",
    "\n",
    "# fig, axes = plt.subplots(3, 2, figsize=(10, 15))\n",
    "\n",
    "# X, y = X_train, y_train\n",
    "\n",
    "# title = \"Learning Curves (LR with Poly)\"\n",
    "# # Cross validation with 100 iterations to get smoother mean test and train\n",
    "# # score curves, each time with 20% data randomly selected as a validation set.\n",
    "# cv = ShuffleSplit(n_splits=50, test_size=0.2, random_state=0)\n",
    "\n",
    "# estimator = LR(solver='liblinear')\n",
    "# plot_learning_curve(estimator, title, X, y, axes=axes[:, 0], ylim=(0.65, 0.95),\n",
    "#                     cv=cv, n_jobs=4)\n",
    "\n",
    "# X, y = X_resampled, y_resampled\n",
    "\n",
    "# title = \"Learning Curves (LR with Poly with FS)\"\n",
    "# # Cross validation with 100 iterations to get smoother mean test and train\n",
    "# # score curves, each time with 20% data randomly selected as a validation set.\n",
    "# cv = ShuffleSplit(n_splits=50, test_size=0.2, random_state=0)\n",
    "\n",
    "# estimator = LR(solver='liblinear')\n",
    "# plot_learning_curve(estimator, title, X, y, axes=axes[:, 1], ylim=(0.65, 0.95),\n",
    "#                     cv=cv, n_jobs=4)\n",
    "\n",
    "\n",
    "# plt.show()"
   ]
  },
  {
   "cell_type": "markdown",
   "metadata": {
    "id": "zzorYGMNeqYB"
   },
   "source": [
    "## Sample Code for Feature Selection and Polynomials"
   ]
  },
  {
   "cell_type": "code",
   "execution_count": null,
   "metadata": {
    "id": "fSsnYG0EXuUG"
   },
   "outputs": [],
   "source": [
    "# from sklearn.svm import SVC\n",
    "# from sklearn.ensemble import RandomForestClassifier as RF\n",
    "# from sklearn.neighbors import KNeighborsClassifier as KNN\n",
    "# from sklearn.linear_model import LogisticRegression as LR\n",
    "# from sklearn.neural_network import MLPClassifier as MLP\n",
    "# from sklearn.metrics import roc_auc_score\n",
    "# from sklearn.feature_selection import SelectFromModel\n",
    "\n",
    "# estimator = LR(solver='liblinear')\n",
    "\n",
    "# selector = SelectFromModel(estimator,threshold=0.75*0.6440).fit(X_resampled, y_resampled)\n",
    "# print(\"Avg coefficient and threshold for feature selection\",selector.threshold_)"
   ]
  },
  {
   "cell_type": "code",
   "execution_count": null,
   "metadata": {
    "id": "Q8gt6Zs2XuUG"
   },
   "outputs": [],
   "source": [
    "# X_resampled_fs = selector.transform(X_resampled)\n",
    "# X_train_fs = selector.transform(X_train)\n",
    "# X_dev_fs = selector.transform(X_dev)\n",
    "# X_test_fs = selector.transform(X_test)\n",
    "# print(\"%3.0f features before feature selection\"%(X_train.shape[1]))\n",
    "# print(\"%3.0f features after feature selection\"%(X_train_fs.shape[1]))"
   ]
  },
  {
   "cell_type": "code",
   "execution_count": null,
   "metadata": {
    "id": "MqBchyhlXuUG"
   },
   "outputs": [],
   "source": [
    "# from sklearn.preprocessing import PolynomialFeatures\n",
    "\n",
    "# import gc\n",
    "# gc.collect()\n",
    "\n",
    "# # Create the polynomial object with specified degree\n",
    "# poly_transformer = PolynomialFeatures(degree = 2)\n",
    "# poly_transformer.fit(X_resampled_fs)\n",
    "\n",
    "# # Transform the features\n",
    "# X_resampled_fs_poly = poly_transformer.transform(X_resampled_fs)\n",
    "# X_train_fs_poly = poly_transformer.transform(X_train_fs)\n",
    "# X_dev_fs_poly = poly_transformer.transform(X_dev_fs)\n",
    "# X_test_fs_poly = poly_transformer.transform(X_test_fs)\n",
    "# print('Polynomial Features shape: ', X_train_fs_poly.shape)"
   ]
  },
  {
   "cell_type": "code",
   "execution_count": null,
   "metadata": {
    "id": "TTURYgOMXuUG"
   },
   "outputs": [],
   "source": [
    "# estimator = LR(solver='liblinear')\n",
    "# selector = SelectFromModel(estimator).fit(X_resampled_fs_poly, y_resampled)\n",
    "# print(\"Avg coefficient and threshold for feature selection\",selector.threshold_)\n",
    "\n",
    "# X_resampled_fs_poly_fs = selector.transform(X_resampled_fs_poly)\n",
    "# X_train_fs_poly_fs = selector.transform(X_train_fs_poly)\n",
    "# X_dev_fs_poly_fs = selector.transform(X_dev_fs_poly)\n",
    "# X_test_fs_poly_fs = selector.transform(X_test_fs_poly)\n",
    "# print(\"%3.0f features after feature selection\"%(X_train_fs_poly_fs.shape[1]))"
   ]
  },
  {
   "cell_type": "markdown",
   "metadata": {
    "id": "GP4pC--UvPo8"
   },
   "source": [
    "## Sample Code For HyperParameter Optimization"
   ]
  },
  {
   "cell_type": "code",
   "execution_count": null,
   "metadata": {
    "id": "m1ZWu6aQXuUG"
   },
   "outputs": [],
   "source": [
    "# %%time \n",
    "\n",
    "# from sklearn.svm import SVC\n",
    "# from sklearn.ensemble import RandomForestClassifier as RF\n",
    "# from sklearn.neighbors import KNeighborsClassifier as KNN\n",
    "# from sklearn.linear_model import LogisticRegression as LR\n",
    "# from sklearn.neural_network import MLPClassifier as MLP\n",
    "# from sklearn.metrics import roc_auc_score\n",
    "\n",
    "# c_values = [i*0.1 for i in range(1,200)]\n",
    "# AUC_list = []\n",
    "# #print(\"C Value\",\", \",\"AUC-Score\")\n",
    "# for c in c_values:\n",
    "#     clf = LR(C = c, solver='liblinear')\n",
    "#     clf.fit(mini_train_data, mini_train_labels)\n",
    "#     #pred = clf.predict(X_dev)\n",
    "#     AUC_score = roc_auc_score(y_dev,  clf.predict_proba(X_dev_fs_poly_fs)[:,1])\n",
    "#     AUC_list.append(AUC_score)\n",
    "#     #print(c, round(AUC_score,4))\n",
    "\n",
    "# # Identifying the maximum value of F1 and its respective 'C' value:\n",
    "# max_AUC = max(AUC_list)\n",
    "# index = AUC_list.index(max_AUC)\n",
    "# best_c = index/10\n",
    "\n",
    "# print(\"The best value of C is: \", best_c, \"Max AUC-score: \", round(max_AUC,4)) \n"
   ]
  },
  {
   "cell_type": "markdown",
   "metadata": {
    "id": "VWynJdFoSfdp"
   },
   "source": [
    "## Sample Oversample and Undersample Code"
   ]
  },
  {
   "cell_type": "code",
   "execution_count": null,
   "metadata": {
    "id": "K6FL57ljSc8a"
   },
   "outputs": [],
   "source": [
    "# from imblearn.over_sampling import SMOTENC\n",
    "# sm = SMOTE(random_state=42)\n",
    "\n",
    "# X_resampled, y_resampled = sm.fit_resample(X_train, y_train)\n",
    "\n",
    "# gc.collect\n",
    "# print(f'''Shape of X before SMOTE: {X_train.shape}\n",
    "# Shape of X after SMOTE: {X_resampled.shape}''')\n",
    "\n",
    "# print('\\nBalance of positive and negative classes (%):')\n",
    "# print(y_train.value_counts(normalize=True) * 100)\n",
    "\n",
    "# print('\\nBalance of positive and negative classes (%):')\n",
    "# print(y_resampled.value_counts(normalize=True) * 100)"
   ]
  },
  {
   "cell_type": "code",
   "execution_count": null,
   "metadata": {
    "id": "9ItQ8Z7hSsMk"
   },
   "outputs": [],
   "source": [
    "# from sklearn.model_selection import train_test_split\n",
    "\n",
    "\n",
    "# positives = df.TARGET == 1\n",
    "# negatives = ~positives\n",
    "# neg_df = df.loc[negatives]\n",
    "# balanced_df = pd.concat([neg_df.sample(sum(positives)),df.loc[positives]])\n",
    "# y = balanced_df.TARGET\n",
    "# X = balanced_df.drop('TARGET',axis=1)\n",
    "\n",
    "# X_train_raw, X_test_raw, y_train, y_test = train_test_split(\n",
    "#     X, y, test_size=0.10, random_state=42, stratify=y)\n",
    "# X_train_raw, X_dev_raw, y_train, y_dev = train_test_split(\n",
    "#     X_train_raw, y_train, test_size=1/9., random_state=42, \n",
    "#     stratify=y_train)"
   ]
  },
  {
   "cell_type": "markdown",
   "metadata": {
    "id": "yQTjYRr03ZXz"
   },
   "source": [
    "## Sample Imputation Methods\n"
   ]
  },
  {
   "cell_type": "code",
   "execution_count": null,
   "metadata": {
    "id": "Dbnh3Oqv3dpY"
   },
   "outputs": [],
   "source": [
    "# def get_impute_knn_score(X_missing, y_missing):\n",
    "#     imputer = KNNImputer(missing_values=np.nan, add_indicator=True, n_neighbors = 5)\n",
    "#     knn_impute_scores = get_scores_for_imputer(imputer, X_missing, y_missing)\n",
    "#     return knn_impute_scores.mean(), knn_impute_scores.std()\n",
    "\n",
    "\n",
    "# mse, stds = get_impute_knn_score(\n",
    "#     X_train_impute[num_features], y_train_impute)\n",
    "# on 24,600 records and all features the wall time was > 1 hr; prohibitively difficult to run "
   ]
  },
  {
   "cell_type": "markdown",
   "metadata": {
    "id": "oVEhaEhoQJuJ"
   },
   "source": [
    "## Sample Code for Incremental PCA"
   ]
  },
  {
   "cell_type": "code",
   "execution_count": null,
   "metadata": {
    "id": "ocZASZ0vQJuJ"
   },
   "outputs": [],
   "source": [
    "# from sklearn.decomposition import IncrementalPCA\n",
    "# from tqdm.notebook import tqdm\n",
    "\n",
    "# pca = transformer = IncrementalPCA(batch_size=1000)\n",
    "# nbatch = len(X2_train)//200\n",
    "# for i in tqdm(range(nbatch)):\n",
    "#     if i < nbatch - 1:\n",
    "#         pca.partial_fit(X2_train[i*200:i*200+200,:])\n",
    "#     else:\n",
    "#         pca.partial_fit(X2_train[i*200:,:])\n",
    "# pca.explained_variance_ratio_.cumsum()\n",
    "# X2_train_pc = pca.transform(X2_train)\n",
    "# X2_dev_pc = pca.transform(X2_dev)\n",
    "# X2_test_pc = pca.transform(X2_test)\n",
    "# print(X2_train_pc.shape)\n",
    "# print(X2_train.shape)"
   ]
  }
 ],
 "metadata": {
  "accelerator": "GPU",
  "colab": {
   "collapsed_sections": [],
   "name": "w207 Final George Jiang, Kineret Stanley, John Woolley- .ipynb",
   "provenance": [],
   "toc_visible": true
  },
  "environment": {
   "name": "tf-gpu.1-15.mnightly-2021-02-12-debian-10-test",
   "type": "gcloud",
   "uri": "gcr.io/deeplearning-platform-release/tf-gpu.1-15:mnightly-2021-02-12-debian-10-test"
  },
  "kernelspec": {
   "display_name": "Python 3",
   "language": "python",
   "name": "python3"
  },
  "language_info": {
   "codemirror_mode": {
    "name": "ipython",
    "version": 3
   },
   "file_extension": ".py",
   "mimetype": "text/x-python",
   "name": "python",
   "nbconvert_exporter": "python",
   "pygments_lexer": "ipython3",
   "version": "3.8.5"
  }
 },
 "nbformat": 4,
 "nbformat_minor": 1
}
